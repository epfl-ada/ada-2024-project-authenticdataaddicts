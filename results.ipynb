{
 "cells": [
  {
   "cell_type": "markdown",
   "id": "8ddaee4c",
   "metadata": {},
   "source": [
    "# CMU Movie data"
   ]
  },
  {
   "cell_type": "code",
   "execution_count": 1,
   "id": "2b837b81",
   "metadata": {},
   "outputs": [
    {
     "name": "stderr",
     "output_type": "stream",
     "text": [
      "c:\\Users\\floco\\anaconda3\\envs\\ml\\Lib\\site-packages\\tqdm\\auto.py:21: TqdmWarning: IProgress not found. Please update jupyter and ipywidgets. See https://ipywidgets.readthedocs.io/en/stable/user_install.html\n",
      "  from .autonotebook import tqdm as notebook_tqdm\n"
     ]
    }
   ],
   "source": [
    "import pandas as pd\n",
    "import numpy as np\n",
    "import re\n",
    "import json\n",
    "import os\n",
    "\n",
    "from src.data_completion import *\n",
    "from src.data_preprocessing import *\n",
    "from src.data_loading import *\n",
    "from src.data_fetching import *\n",
    "from src.data_visualization import *\n",
    "\n",
    "from datetime import datetime\n",
    "import matplotlib.pyplot as plt\n",
    "import seaborn as sns\n",
    "import scipy.stats as stats\n",
    "%load_ext autoreload\n",
    "%autoreload 2"
   ]
  },
  {
   "cell_type": "markdown",
   "id": "5bc8ac0f",
   "metadata": {},
   "source": [
    "## Download datasets\n",
    "The following code dowloads the datasets that were too heavy to be included, and places them directly in the `data` folder"
   ]
  },
  {
   "cell_type": "code",
   "execution_count": 2,
   "id": "13d88e8f",
   "metadata": {},
   "outputs": [
    {
     "name": "stdout",
     "output_type": "stream",
     "text": [
      "TMDb dataset already exists. Skipping download.\n",
      "name.basics.tsv already exists. Skipping download.\n",
      "title.ratings.tsv already exists. Skipping download.\n",
      "title.principals.tsv already exists. Skipping download.\n",
      "All required files of CMU are already present. Skipping download.\n"
     ]
    }
   ],
   "source": [
    "# Download TMDb Dataset\n",
    "download_tmdb()\n",
    "\n",
    "# Download IMDb Dataset\n",
    "download_imdb(\"name.basics.tsv\")\n",
    "download_imdb(\"title.ratings.tsv\")\n",
    "download_imdb(\"title.principals.tsv\")\n",
    "\n",
    "# Download CMU dataset\n",
    "download_cmu()"
   ]
  },
  {
   "cell_type": "markdown",
   "id": "51d5340b",
   "metadata": {},
   "source": [
    "## Initial data inspection\n",
    "We will first try to provide a first generic inspection of the CMU movie dataset we decided to work on."
   ]
  },
  {
   "cell_type": "markdown",
   "id": "a7f50aa3",
   "metadata": {},
   "source": [
    "### Load Data\n",
    "The dataset is divided in 3 parts, the characters, the movies and the plots of the movies."
   ]
  },
  {
   "cell_type": "code",
   "execution_count": 3,
   "id": "a9ee11fa",
   "metadata": {},
   "outputs": [],
   "source": [
    "character_data, movie_data, plot_data = load_data()"
   ]
  },
  {
   "cell_type": "markdown",
   "id": "04cd05ad",
   "metadata": {},
   "source": [
    "### Characters dataset\n",
    "Let's first have a look to the character dataset."
   ]
  },
  {
   "cell_type": "code",
   "execution_count": 4,
   "id": "f3b789d5",
   "metadata": {},
   "outputs": [
    {
     "name": "stdout",
     "output_type": "stream",
     "text": [
      "There are 450669 characters with 13 features for each.\n"
     ]
    }
   ],
   "source": [
    "print(f'There are {character_data.shape[0]} characters with {character_data.shape[1]} features for each.')"
   ]
  },
  {
   "cell_type": "code",
   "execution_count": 5,
   "id": "c1d06e50",
   "metadata": {},
   "outputs": [
    {
     "data": {
      "text/html": [
       "<div>\n",
       "<style scoped>\n",
       "    .dataframe tbody tr th:only-of-type {\n",
       "        vertical-align: middle;\n",
       "    }\n",
       "\n",
       "    .dataframe tbody tr th {\n",
       "        vertical-align: top;\n",
       "    }\n",
       "\n",
       "    .dataframe thead th {\n",
       "        text-align: right;\n",
       "    }\n",
       "</style>\n",
       "<table border=\"1\" class=\"dataframe\">\n",
       "  <thead>\n",
       "    <tr style=\"text-align: right;\">\n",
       "      <th></th>\n",
       "      <th>wikipedia_movie_id</th>\n",
       "      <th>freebase_movie_id</th>\n",
       "      <th>movie_release_date</th>\n",
       "      <th>character_name</th>\n",
       "      <th>actor_dob</th>\n",
       "      <th>actor_gender</th>\n",
       "      <th>actor_height</th>\n",
       "      <th>actor_ethnicity</th>\n",
       "      <th>actor_name</th>\n",
       "      <th>actor_age_at_release</th>\n",
       "      <th>character_actor_map_id</th>\n",
       "      <th>character_id</th>\n",
       "      <th>actor_id</th>\n",
       "    </tr>\n",
       "  </thead>\n",
       "  <tbody>\n",
       "    <tr>\n",
       "      <th>0</th>\n",
       "      <td>975900</td>\n",
       "      <td>/m/03vyhn</td>\n",
       "      <td>2001-08-24</td>\n",
       "      <td>Akooshay</td>\n",
       "      <td>1958-08-26</td>\n",
       "      <td>F</td>\n",
       "      <td>1.62</td>\n",
       "      <td>NaN</td>\n",
       "      <td>Wanda De Jesus</td>\n",
       "      <td>42.0</td>\n",
       "      <td>/m/0bgchxw</td>\n",
       "      <td>/m/0bgcj3x</td>\n",
       "      <td>/m/03wcfv7</td>\n",
       "    </tr>\n",
       "    <tr>\n",
       "      <th>1</th>\n",
       "      <td>975900</td>\n",
       "      <td>/m/03vyhn</td>\n",
       "      <td>2001-08-24</td>\n",
       "      <td>Lieutenant Melanie Ballard</td>\n",
       "      <td>1974-08-15</td>\n",
       "      <td>F</td>\n",
       "      <td>1.78</td>\n",
       "      <td>/m/044038p</td>\n",
       "      <td>Natasha Henstridge</td>\n",
       "      <td>27.0</td>\n",
       "      <td>/m/0jys3m</td>\n",
       "      <td>/m/0bgchn4</td>\n",
       "      <td>/m/0346l4</td>\n",
       "    </tr>\n",
       "  </tbody>\n",
       "</table>\n",
       "</div>"
      ],
      "text/plain": [
       "   wikipedia_movie_id freebase_movie_id movie_release_date  \\\n",
       "0              975900         /m/03vyhn         2001-08-24   \n",
       "1              975900         /m/03vyhn         2001-08-24   \n",
       "\n",
       "               character_name   actor_dob actor_gender  actor_height  \\\n",
       "0                    Akooshay  1958-08-26            F          1.62   \n",
       "1  Lieutenant Melanie Ballard  1974-08-15            F          1.78   \n",
       "\n",
       "  actor_ethnicity          actor_name  actor_age_at_release  \\\n",
       "0             NaN      Wanda De Jesus                  42.0   \n",
       "1      /m/044038p  Natasha Henstridge                  27.0   \n",
       "\n",
       "  character_actor_map_id character_id    actor_id  \n",
       "0             /m/0bgchxw   /m/0bgcj3x  /m/03wcfv7  \n",
       "1              /m/0jys3m   /m/0bgchn4   /m/0346l4  "
      ]
     },
     "execution_count": 5,
     "metadata": {},
     "output_type": "execute_result"
    }
   ],
   "source": [
    "character_data.head(2)"
   ]
  },
  {
   "cell_type": "markdown",
   "id": "d72305a3",
   "metadata": {},
   "source": [
    "We directly note that the actor ethnicities are not human readable, they look to be freebase ids. It's something we will need to fix during preprocessing.\n",
    "Let's now see how much missing data we have."
   ]
  },
  {
   "cell_type": "code",
   "execution_count": 6,
   "id": "ec456244",
   "metadata": {},
   "outputs": [
    {
     "name": "stdout",
     "output_type": "stream",
     "text": [
      "Percentage of null rows in the characters dataset for each features:\n",
      "wikipedia_movie_id         0.0\n",
      "freebase_movie_id          0.0\n",
      "movie_release_date         2.2\n",
      "character_name            57.2\n",
      "actor_dob                 23.6\n",
      "actor_gender              10.1\n",
      "actor_height              65.6\n",
      "actor_ethnicity           76.5\n",
      "actor_name                 0.3\n",
      "actor_age_at_release      35.1\n",
      "character_actor_map_id     0.0\n",
      "character_id              57.2\n",
      "actor_id                   0.2\n",
      "dtype: float64\n"
     ]
    }
   ],
   "source": [
    "print(\"Percentage of null rows in the characters dataset for each features:\")\n",
    "print(character_data.isnull().mean().round(3)*100)"
   ]
  },
  {
   "cell_type": "markdown",
   "id": "06d2afd6",
   "metadata": {},
   "source": [
    "We see that we miss a lot of character names/ids, actor heights, ethnicity and age at release. We can also check for duplicate rows."
   ]
  },
  {
   "cell_type": "code",
   "execution_count": 7,
   "id": "8ec919b6",
   "metadata": {},
   "outputs": [
    {
     "name": "stdout",
     "output_type": "stream",
     "text": [
      "Duplicated rows: 0\n"
     ]
    }
   ],
   "source": [
    "print(f\"Duplicated rows: {character_data.duplicated().sum()}\")"
   ]
  },
  {
   "cell_type": "markdown",
   "id": "32b4be89",
   "metadata": {},
   "source": [
    "### Movies dataset\n",
    "Let's now have a look at the movies dataset."
   ]
  },
  {
   "cell_type": "code",
   "execution_count": 8,
   "id": "af339272",
   "metadata": {},
   "outputs": [
    {
     "name": "stdout",
     "output_type": "stream",
     "text": [
      "There are 81741 movies with 9 features for each.\n"
     ]
    }
   ],
   "source": [
    "print(f'There are {movie_data.shape[0]} movies with {movie_data.shape[1]} features for each.')"
   ]
  },
  {
   "cell_type": "code",
   "execution_count": 9,
   "id": "3d95221e",
   "metadata": {},
   "outputs": [
    {
     "data": {
      "text/html": [
       "<div>\n",
       "<style scoped>\n",
       "    .dataframe tbody tr th:only-of-type {\n",
       "        vertical-align: middle;\n",
       "    }\n",
       "\n",
       "    .dataframe tbody tr th {\n",
       "        vertical-align: top;\n",
       "    }\n",
       "\n",
       "    .dataframe thead th {\n",
       "        text-align: right;\n",
       "    }\n",
       "</style>\n",
       "<table border=\"1\" class=\"dataframe\">\n",
       "  <thead>\n",
       "    <tr style=\"text-align: right;\">\n",
       "      <th></th>\n",
       "      <th>wikipedia_movie_id</th>\n",
       "      <th>freebase_movie_id</th>\n",
       "      <th>movie_name</th>\n",
       "      <th>movie_release_date</th>\n",
       "      <th>box_office_revenue</th>\n",
       "      <th>runtime</th>\n",
       "      <th>languages</th>\n",
       "      <th>countries</th>\n",
       "      <th>genres</th>\n",
       "    </tr>\n",
       "  </thead>\n",
       "  <tbody>\n",
       "    <tr>\n",
       "      <th>0</th>\n",
       "      <td>975900</td>\n",
       "      <td>/m/03vyhn</td>\n",
       "      <td>Ghosts of Mars</td>\n",
       "      <td>2001-08-24</td>\n",
       "      <td>14010832.0</td>\n",
       "      <td>98.0</td>\n",
       "      <td>{\"/m/02h40lc\": \"English Language\"}</td>\n",
       "      <td>{\"/m/09c7w0\": \"United States of America\"}</td>\n",
       "      <td>{\"/m/01jfsb\": \"Thriller\", \"/m/06n90\": \"Science...</td>\n",
       "    </tr>\n",
       "    <tr>\n",
       "      <th>1</th>\n",
       "      <td>3196793</td>\n",
       "      <td>/m/08yl5d</td>\n",
       "      <td>Getting Away with Murder: The JonBenét Ramsey ...</td>\n",
       "      <td>2000-02-16</td>\n",
       "      <td>NaN</td>\n",
       "      <td>95.0</td>\n",
       "      <td>{\"/m/02h40lc\": \"English Language\"}</td>\n",
       "      <td>{\"/m/09c7w0\": \"United States of America\"}</td>\n",
       "      <td>{\"/m/02n4kr\": \"Mystery\", \"/m/03bxz7\": \"Biograp...</td>\n",
       "    </tr>\n",
       "  </tbody>\n",
       "</table>\n",
       "</div>"
      ],
      "text/plain": [
       "   wikipedia_movie_id freebase_movie_id  \\\n",
       "0              975900         /m/03vyhn   \n",
       "1             3196793         /m/08yl5d   \n",
       "\n",
       "                                          movie_name movie_release_date  \\\n",
       "0                                     Ghosts of Mars         2001-08-24   \n",
       "1  Getting Away with Murder: The JonBenét Ramsey ...         2000-02-16   \n",
       "\n",
       "   box_office_revenue  runtime                           languages  \\\n",
       "0          14010832.0     98.0  {\"/m/02h40lc\": \"English Language\"}   \n",
       "1                 NaN     95.0  {\"/m/02h40lc\": \"English Language\"}   \n",
       "\n",
       "                                   countries  \\\n",
       "0  {\"/m/09c7w0\": \"United States of America\"}   \n",
       "1  {\"/m/09c7w0\": \"United States of America\"}   \n",
       "\n",
       "                                              genres  \n",
       "0  {\"/m/01jfsb\": \"Thriller\", \"/m/06n90\": \"Science...  \n",
       "1  {\"/m/02n4kr\": \"Mystery\", \"/m/03bxz7\": \"Biograp...  "
      ]
     },
     "execution_count": 9,
     "metadata": {},
     "output_type": "execute_result"
    }
   ],
   "source": [
    "movie_data.head(2)"
   ]
  },
  {
   "cell_type": "markdown",
   "id": "c346a5ea",
   "metadata": {},
   "source": [
    "Let's now see if we have a lot of missing data. We will also verify that we don't have duplicated rows."
   ]
  },
  {
   "cell_type": "code",
   "execution_count": 10,
   "id": "82985100",
   "metadata": {},
   "outputs": [
    {
     "name": "stdout",
     "output_type": "stream",
     "text": [
      "Percentage of null rows in the movies dataset for each features:\n",
      "wikipedia_movie_id     0.0\n",
      "freebase_movie_id      0.0\n",
      "movie_name             0.0\n",
      "movie_release_date     8.4\n",
      "box_office_revenue    89.7\n",
      "runtime               25.0\n",
      "languages              0.0\n",
      "countries              0.0\n",
      "genres                 0.0\n",
      "dtype: float64\n"
     ]
    }
   ],
   "source": [
    "print(\"Percentage of null rows in the movies dataset for each features:\")\n",
    "print(movie_data.isnull().mean().round(3)*100)"
   ]
  },
  {
   "cell_type": "code",
   "execution_count": 11,
   "id": "465283a2",
   "metadata": {},
   "outputs": [
    {
     "name": "stdout",
     "output_type": "stream",
     "text": [
      "Duplicated rows: 0\n"
     ]
    }
   ],
   "source": [
    "print(f\"Duplicated rows: {movie_data.duplicated().sum()}\")"
   ]
  },
  {
   "cell_type": "markdown",
   "id": "71496d7e",
   "metadata": {},
   "source": [
    "Ouch! We only have box office revenue for 10% of our movies, that's not good news since it's a key feature in our research problematic, we will need to fix this. Apart from this, we can also note that we are missing 25% of the runtime information. We could try to improve this. This also applies to the movie release data. For the languages, countries and genres, we note that they are dictionaries meaning that we first need to preprocess them a bit (for example transforming them to a list) to then be able to see the percentage of missing data. We will do it now:"
   ]
  },
  {
   "cell_type": "code",
   "execution_count": 12,
   "id": "e89dd1a5",
   "metadata": {},
   "outputs": [],
   "source": [
    "# Extract the readable values for 'languages', 'countries', and 'genres' columns. Also clean the language column.\n",
    "\n",
    "movie_data['languages'] = movie_data['languages'].apply(lambda x: extract_values(x, clean_func=clean_language))\n",
    "movie_data['countries'] = movie_data['countries'].apply(lambda x: extract_values(x)) \n",
    "movie_data['genres'] = movie_data['genres'].apply(lambda x: extract_values(x))  "
   ]
  },
  {
   "cell_type": "markdown",
   "id": "2f611732",
   "metadata": {},
   "source": [
    "We can now have a look to the missing data:"
   ]
  },
  {
   "cell_type": "code",
   "execution_count": 13,
   "id": "87d127cb",
   "metadata": {},
   "outputs": [
    {
     "name": "stdout",
     "output_type": "stream",
     "text": [
      "Percentage of None values in 'languages': 16.96%\n",
      "Percentage of None values in 'countries': 9.98%\n",
      "Percentage of None values in 'genres': 4.38%\n"
     ]
    }
   ],
   "source": [
    "# Calculate the number of None (NaN) values for each column\n",
    "none_languages = movie_data['languages'].isna().mean()\n",
    "none_countries = movie_data['countries'].isna().mean()\n",
    "none_genres = movie_data['genres'].isna().mean()\n",
    "\n",
    "# Print the counts of None (NaN) values\n",
    "print(f\"Percentage of None values in 'languages': {none_languages:.2%}\")\n",
    "print(f\"Percentage of None values in 'countries': {none_countries:.2%}\")\n",
    "print(f\"Percentage of None values in 'genres': {none_genres:.2%}\")"
   ]
  },
  {
   "cell_type": "markdown",
   "id": "99a6999f",
   "metadata": {},
   "source": [
    "We miss some data but nothing too huge."
   ]
  },
  {
   "cell_type": "markdown",
   "id": "2f1ee937",
   "metadata": {},
   "source": [
    "### Plot summary dataset\n",
    "Let's now have a look at the plot summaries dataset."
   ]
  },
  {
   "cell_type": "code",
   "execution_count": 14,
   "id": "2e41cad2",
   "metadata": {},
   "outputs": [
    {
     "name": "stdout",
     "output_type": "stream",
     "text": [
      "There are 42303 plot summaries with 2 features for each.\n"
     ]
    }
   ],
   "source": [
    "print(f'There are {plot_data.shape[0]} plot summaries with {plot_data.shape[1]} features for each.')"
   ]
  },
  {
   "cell_type": "code",
   "execution_count": 15,
   "id": "14f05e09",
   "metadata": {},
   "outputs": [
    {
     "data": {
      "text/html": [
       "<div>\n",
       "<style scoped>\n",
       "    .dataframe tbody tr th:only-of-type {\n",
       "        vertical-align: middle;\n",
       "    }\n",
       "\n",
       "    .dataframe tbody tr th {\n",
       "        vertical-align: top;\n",
       "    }\n",
       "\n",
       "    .dataframe thead th {\n",
       "        text-align: right;\n",
       "    }\n",
       "</style>\n",
       "<table border=\"1\" class=\"dataframe\">\n",
       "  <thead>\n",
       "    <tr style=\"text-align: right;\">\n",
       "      <th></th>\n",
       "      <th>wikipedia_movie_id</th>\n",
       "      <th>summary</th>\n",
       "    </tr>\n",
       "  </thead>\n",
       "  <tbody>\n",
       "    <tr>\n",
       "      <th>0</th>\n",
       "      <td>23890098</td>\n",
       "      <td>Shlykov, a hard-working taxi driver and Lyosha...</td>\n",
       "    </tr>\n",
       "    <tr>\n",
       "      <th>1</th>\n",
       "      <td>31186339</td>\n",
       "      <td>The nation of Panem consists of a wealthy Capi...</td>\n",
       "    </tr>\n",
       "  </tbody>\n",
       "</table>\n",
       "</div>"
      ],
      "text/plain": [
       "   wikipedia_movie_id                                            summary\n",
       "0            23890098  Shlykov, a hard-working taxi driver and Lyosha...\n",
       "1            31186339  The nation of Panem consists of a wealthy Capi..."
      ]
     },
     "execution_count": 15,
     "metadata": {},
     "output_type": "execute_result"
    }
   ],
   "source": [
    "plot_data.head(2)"
   ]
  },
  {
   "cell_type": "markdown",
   "id": "9fec2b3e",
   "metadata": {},
   "source": [
    "Let's see if we have some rows that are invalid (no summary or wikipedia id)."
   ]
  },
  {
   "cell_type": "code",
   "execution_count": 16,
   "id": "ead77807",
   "metadata": {},
   "outputs": [
    {
     "name": "stdout",
     "output_type": "stream",
     "text": [
      "Pourcentage of null rows in the plot summaries dataset:\n",
      "wikipedia_movie_id    0.0\n",
      "summary               0.0\n",
      "dtype: float64\n"
     ]
    }
   ],
   "source": [
    "print(\"Pourcentage of null rows in the plot summaries dataset:\")\n",
    "print(plot_data.isnull().mean().round(3)*100)"
   ]
  },
  {
   "cell_type": "markdown",
   "id": "c353cf7c",
   "metadata": {},
   "source": [
    "Good new, we have nothing missing here."
   ]
  },
  {
   "cell_type": "markdown",
   "id": "e5a5a1f3",
   "metadata": {},
   "source": [
    "## Data completion\n",
    "\n",
    "### Missing data\n",
    "Before going deeper to the analysis, we want to already fix the fact that we are missing data for most of the box office results and some runtime values.\n",
    "\n",
    "Let's first get more data on box office results to decrease the number of missing data we have for now. To do this, we will merge the current dataset with a dataset that contains information about 1,000,000 movies collected from The Movie Database (TMDb), including revenue and runtime (https://www.kaggle.com/datasets/asaniczka/tmdb-movies-dataset-2023-930k-movies?resource=download)."
   ]
  },
  {
   "cell_type": "code",
   "execution_count": 17,
   "id": "b17bcdfe",
   "metadata": {},
   "outputs": [
    {
     "data": {
      "text/html": [
       "<div>\n",
       "<style scoped>\n",
       "    .dataframe tbody tr th:only-of-type {\n",
       "        vertical-align: middle;\n",
       "    }\n",
       "\n",
       "    .dataframe tbody tr th {\n",
       "        vertical-align: top;\n",
       "    }\n",
       "\n",
       "    .dataframe thead th {\n",
       "        text-align: right;\n",
       "    }\n",
       "</style>\n",
       "<table border=\"1\" class=\"dataframe\">\n",
       "  <thead>\n",
       "    <tr style=\"text-align: right;\">\n",
       "      <th></th>\n",
       "      <th>id</th>\n",
       "      <th>title</th>\n",
       "      <th>vote_average</th>\n",
       "      <th>vote_count</th>\n",
       "      <th>status</th>\n",
       "      <th>release_date</th>\n",
       "      <th>revenue</th>\n",
       "      <th>runtime</th>\n",
       "      <th>adult</th>\n",
       "      <th>backdrop_path</th>\n",
       "      <th>...</th>\n",
       "      <th>overview</th>\n",
       "      <th>popularity</th>\n",
       "      <th>poster_path</th>\n",
       "      <th>tagline</th>\n",
       "      <th>genres</th>\n",
       "      <th>production_companies</th>\n",
       "      <th>production_countries</th>\n",
       "      <th>spoken_languages</th>\n",
       "      <th>keywords</th>\n",
       "      <th>box_office_revenue</th>\n",
       "    </tr>\n",
       "  </thead>\n",
       "  <tbody>\n",
       "    <tr>\n",
       "      <th>0</th>\n",
       "      <td>27205</td>\n",
       "      <td>Inception</td>\n",
       "      <td>8.364</td>\n",
       "      <td>34495</td>\n",
       "      <td>Released</td>\n",
       "      <td>2010-07-15</td>\n",
       "      <td>825532764</td>\n",
       "      <td>148</td>\n",
       "      <td>False</td>\n",
       "      <td>/8ZTVqvKDQ8emSGUEMjsS4yHAwrp.jpg</td>\n",
       "      <td>...</td>\n",
       "      <td>Cobb, a skilled thief who commits corporate es...</td>\n",
       "      <td>83.952</td>\n",
       "      <td>/oYuLEt3zVCKq57qu2F8dT7NIa6f.jpg</td>\n",
       "      <td>Your mind is the scene of the crime.</td>\n",
       "      <td>Action, Science Fiction, Adventure</td>\n",
       "      <td>Legendary Pictures, Syncopy, Warner Bros. Pict...</td>\n",
       "      <td>United Kingdom, United States of America</td>\n",
       "      <td>English, French, Japanese, Swahili</td>\n",
       "      <td>rescue, mission, dream, airplane, paris, franc...</td>\n",
       "      <td>825532764</td>\n",
       "    </tr>\n",
       "    <tr>\n",
       "      <th>1</th>\n",
       "      <td>157336</td>\n",
       "      <td>Interstellar</td>\n",
       "      <td>8.417</td>\n",
       "      <td>32571</td>\n",
       "      <td>Released</td>\n",
       "      <td>2014-11-05</td>\n",
       "      <td>701729206</td>\n",
       "      <td>169</td>\n",
       "      <td>False</td>\n",
       "      <td>/pbrkL804c8yAv3zBZR4QPEafpAR.jpg</td>\n",
       "      <td>...</td>\n",
       "      <td>The adventures of a group of explorers who mak...</td>\n",
       "      <td>140.241</td>\n",
       "      <td>/gEU2QniE6E77NI6lCU6MxlNBvIx.jpg</td>\n",
       "      <td>Mankind was born on Earth. It was never meant ...</td>\n",
       "      <td>Adventure, Drama, Science Fiction</td>\n",
       "      <td>Legendary Pictures, Syncopy, Lynda Obst Produc...</td>\n",
       "      <td>United Kingdom, United States of America</td>\n",
       "      <td>English</td>\n",
       "      <td>rescue, future, spacecraft, race against time,...</td>\n",
       "      <td>701729206</td>\n",
       "    </tr>\n",
       "  </tbody>\n",
       "</table>\n",
       "<p>2 rows × 25 columns</p>\n",
       "</div>"
      ],
      "text/plain": [
       "       id         title  vote_average  vote_count    status release_date  \\\n",
       "0   27205     Inception         8.364       34495  Released   2010-07-15   \n",
       "1  157336  Interstellar         8.417       32571  Released   2014-11-05   \n",
       "\n",
       "     revenue  runtime  adult                     backdrop_path  ...  \\\n",
       "0  825532764      148  False  /8ZTVqvKDQ8emSGUEMjsS4yHAwrp.jpg  ...   \n",
       "1  701729206      169  False  /pbrkL804c8yAv3zBZR4QPEafpAR.jpg  ...   \n",
       "\n",
       "                                            overview popularity  \\\n",
       "0  Cobb, a skilled thief who commits corporate es...     83.952   \n",
       "1  The adventures of a group of explorers who mak...    140.241   \n",
       "\n",
       "                        poster_path  \\\n",
       "0  /oYuLEt3zVCKq57qu2F8dT7NIa6f.jpg   \n",
       "1  /gEU2QniE6E77NI6lCU6MxlNBvIx.jpg   \n",
       "\n",
       "                                             tagline  \\\n",
       "0               Your mind is the scene of the crime.   \n",
       "1  Mankind was born on Earth. It was never meant ...   \n",
       "\n",
       "                               genres  \\\n",
       "0  Action, Science Fiction, Adventure   \n",
       "1   Adventure, Drama, Science Fiction   \n",
       "\n",
       "                                production_companies  \\\n",
       "0  Legendary Pictures, Syncopy, Warner Bros. Pict...   \n",
       "1  Legendary Pictures, Syncopy, Lynda Obst Produc...   \n",
       "\n",
       "                       production_countries  \\\n",
       "0  United Kingdom, United States of America   \n",
       "1  United Kingdom, United States of America   \n",
       "\n",
       "                     spoken_languages  \\\n",
       "0  English, French, Japanese, Swahili   \n",
       "1                             English   \n",
       "\n",
       "                                            keywords box_office_revenue  \n",
       "0  rescue, mission, dream, airplane, paris, franc...          825532764  \n",
       "1  rescue, future, spacecraft, race against time,...          701729206  \n",
       "\n",
       "[2 rows x 25 columns]"
      ]
     },
     "execution_count": 17,
     "metadata": {},
     "output_type": "execute_result"
    }
   ],
   "source": [
    "# Load the new dataset (and rename some columns)\n",
    "movies_dataset = pd.read_csv('data/tmbd_movies.csv')\n",
    "movies_dataset['box_office_revenue'] = pd.to_numeric(movies_dataset['revenue'], errors='coerce') \n",
    "movies_dataset['release_date'] = pd.to_datetime(movies_dataset['release_date'], errors='coerce')\n",
    "movies_dataset.head(2)"
   ]
  },
  {
   "cell_type": "markdown",
   "id": "ca8c9698-53d9-4722-8329-7215568b9313",
   "metadata": {},
   "source": [
    "We would like to merge our two movie datasets on the movie names. So lets se if those values are unique in both datasets"
   ]
  },
  {
   "cell_type": "code",
   "execution_count": 18,
   "id": "50852f82-7483-424f-b134-dcb0991f5f70",
   "metadata": {},
   "outputs": [
    {
     "name": "stdout",
     "output_type": "stream",
     "text": [
      "Are all titles in movies_dataset unique? False\n",
      "Number of duplicated titles in movies_dataset: 221973\n",
      "Are all movie names in movie_data unique? False\n",
      "Number of duplicated movie names in movie_data: 10650\n"
     ]
    }
   ],
   "source": [
    "# Check if 'title' are unique in movies_dataset\n",
    "unique_titles = movies_dataset[\"title\"].is_unique\n",
    "print(f\"Are all titles in movies_dataset unique? {unique_titles}\")\n",
    "\n",
    "# Check amount of duplicated titles\n",
    "duplicated_titles = movies_dataset[movies_dataset[\"title\"].duplicated(keep=False)]\n",
    "print(f\"Number of duplicated titles in movies_dataset: {duplicated_titles.shape[0]}\")\n",
    "\n",
    "# Check if 'movie_name' are unique in movie_data\n",
    "unique_movie_names = movie_data[\"movie_name\"].is_unique\n",
    "print(f\"Are all movie names in movie_data unique? {unique_movie_names}\")\n",
    "\n",
    "# Check amount of duplicated movie_names\n",
    "duplicated_names = movie_data[movie_data[\"movie_name\"].duplicated(keep=False)]\n",
    "print(f\"Number of duplicated movie names in movie_data: {duplicated_names.shape[0]}\")\n"
   ]
  },
  {
   "cell_type": "markdown",
   "id": "d31f9435-2266-4569-b1bc-e13e31d9e35a",
   "metadata": {},
   "source": [
    "We can see that our movie names are not unique in both datasets (we have a lot of dup), thus it would be a good idea to use it together with another feature for merging for example the release dates that we also have in both dataframes"
   ]
  },
  {
   "cell_type": "code",
   "execution_count": 19,
   "id": "8198fec9-ccdd-413c-a657-f553dbddb4ff",
   "metadata": {},
   "outputs": [],
   "source": [
    "# We remove the nan of movie release date in the movie_data since we merge on it\n",
    "movie_data['movie_release_date'] = pd.to_datetime(movie_data['movie_release_date'], errors='coerce')\n",
    "movie_data = movie_data.dropna(subset=['movie_release_date'])"
   ]
  },
  {
   "cell_type": "markdown",
   "id": "45c459f7-d1f1-467d-8d12-3339b4be6395",
   "metadata": {},
   "source": [
    "Before merging on strings we make them lower case and remove leading, trailing and double spaces"
   ]
  },
  {
   "cell_type": "code",
   "execution_count": 20,
   "id": "ed9f3870-71c6-45c8-bc5f-3d390452646b",
   "metadata": {},
   "outputs": [],
   "source": [
    "movies_dataset[\"title\"] = movies_dataset[\"title\"].str.lower().str.strip()\n",
    "movie_data[\"movie_name\"] = movie_data[\"movie_name\"].str.lower().str.strip()"
   ]
  },
  {
   "cell_type": "markdown",
   "id": "e5550d1c-6724-4845-9bd2-df8f421bb1e9",
   "metadata": {},
   "source": [
    "For the sake of merging it is also better to merge on the release year instead of the exact date that is sometimes delayed by a few days"
   ]
  },
  {
   "cell_type": "code",
   "execution_count": 21,
   "id": "20e4b205-70e0-44b8-bfce-fb79ae50a1ba",
   "metadata": {},
   "outputs": [],
   "source": [
    "movies_dataset[\"movie_release_year\"] = movies_dataset[\"release_date\"].dt.year\n",
    "movie_data[\"movie_release_year\"] = movie_data[\"movie_release_date\"].dt.year"
   ]
  },
  {
   "cell_type": "code",
   "execution_count": 42,
   "id": "b31cb8f6",
   "metadata": {},
   "outputs": [],
   "source": [
    "movie_data_merged, before_missing, after_missing = merge_for_completion(movie_data, movies_dataset, [\"movie_name\", \"movie_release_year\"], [\"title\", \"movie_release_year\"], \"box_office_revenue\", merge_strategy='prioritize_first')"
   ]
  },
  {
   "cell_type": "code",
   "execution_count": 43,
   "id": "fac46c85",
   "metadata": {},
   "outputs": [
    {
     "name": "stdout",
     "output_type": "stream",
     "text": [
      "Box office results missing percentage before merge (on title) with wikidata: 82.75%\n",
      "Box office results missing percentage after merge (on title) with wikidata: 23.52%\n"
     ]
    }
   ],
   "source": [
    "# Print the before and after missing percentages\n",
    "print(f\"Box office results missing percentage before merge (on title) with wikidata: {before_missing:.2%}\")\n",
    "print(f\"Box office results missing percentage after merge (on title) with wikidata: {after_missing:.2%}\")"
   ]
  },
  {
   "cell_type": "markdown",
   "id": "1e7011b5",
   "metadata": {},
   "source": [
    "Big improvement, that's good. Let's try to improve the runtime data."
   ]
  },
  {
   "cell_type": "code",
   "execution_count": 44,
   "id": "c1f19049",
   "metadata": {},
   "outputs": [],
   "source": [
    "movie_data_merged, before_missing, after_missing = merge_for_completion(movie_data_merged, movies_dataset, [\"movie_name\", \"movie_release_year\"], [\"title\", \"movie_release_year\"], \"runtime\", merge_strategy='prioritize_first')"
   ]
  },
  {
   "cell_type": "code",
   "execution_count": 45,
   "id": "9bab2e1a",
   "metadata": {},
   "outputs": [
    {
     "name": "stdout",
     "output_type": "stream",
     "text": [
      "Runtime results missing percentage before merge (on title) with The Movies Dataset: 17.02%\n",
      "Runtime results missing percentage after merge (on title) with The Movies Dataset: 6.13%\n"
     ]
    }
   ],
   "source": [
    "# Print the before and after missing percentages\n",
    "print(f\"Runtime results missing percentage before merge (on title) with The Movies Dataset: {before_missing:.2%}\")\n",
    "print(f\"Runtime results missing percentage after merge (on title) with The Movies Dataset: {after_missing:.2%}\")"
   ]
  },
  {
   "cell_type": "markdown",
   "id": "dc622e09",
   "metadata": {},
   "source": [
    "That's pretty cool too, we also want to merge the IMBD ID column because we need it afterwards (and we don't have it with the CMU dataset)."
   ]
  },
  {
   "cell_type": "code",
   "execution_count": 46,
   "id": "f2f9b19f",
   "metadata": {},
   "outputs": [],
   "source": [
    "movie_data_merged, _, _ = merge_for_completion(movie_data_merged, movies_dataset, [\"movie_name\", \"movie_release_date\"], [\"title\", \"release_date\"], \"imdb_id\", merge_strategy='add_column')"
   ]
  },
  {
   "cell_type": "markdown",
   "id": "c6bfd011",
   "metadata": {},
   "source": [
    "### Adding the rating and lead actors of movies\n",
    "\n",
    "Now we want to merge with the IMDb datasets (https://developer.imdb.com/non-commercial-datasets/) in order to obtain ratings and lead actors. We consider an actor to be a lead actor if their ordering is 1 or 2."
   ]
  },
  {
   "cell_type": "code",
   "execution_count": 27,
   "id": "c732165a",
   "metadata": {},
   "outputs": [],
   "source": [
    "# Load IMDb ratings and select relevant columns\n",
    "imdb_ratings = pd.read_csv('data/title.ratings.tsv', sep='\\t')\n",
    "imdb_ratings = imdb_ratings.rename(columns={'tconst': 'imdb_id'})\n",
    "imdb_ratings = imdb_ratings[['imdb_id', 'averageRating', 'numVotes']]"
   ]
  },
  {
   "cell_type": "code",
   "execution_count": 28,
   "id": "a8cc45db",
   "metadata": {},
   "outputs": [],
   "source": [
    "# Load IMDb names data for actors\n",
    "imdb_names = pd.read_csv('data/name.basics.tsv', sep='\\t')"
   ]
  },
  {
   "cell_type": "code",
   "execution_count": 29,
   "id": "3c549c83",
   "metadata": {},
   "outputs": [],
   "source": [
    "# Extract lead actors (representing the first and second roles)\n",
    "filtered_lead_actors = extract_lead_actors()"
   ]
  },
  {
   "cell_type": "code",
   "execution_count": 47,
   "id": "885a1804",
   "metadata": {},
   "outputs": [
    {
     "data": {
      "text/html": [
       "<div>\n",
       "<style scoped>\n",
       "    .dataframe tbody tr th:only-of-type {\n",
       "        vertical-align: middle;\n",
       "    }\n",
       "\n",
       "    .dataframe tbody tr th {\n",
       "        vertical-align: top;\n",
       "    }\n",
       "\n",
       "    .dataframe thead th {\n",
       "        text-align: right;\n",
       "    }\n",
       "</style>\n",
       "<table border=\"1\" class=\"dataframe\">\n",
       "  <thead>\n",
       "    <tr style=\"text-align: right;\">\n",
       "      <th></th>\n",
       "      <th>wikipedia_movie_id</th>\n",
       "      <th>freebase_movie_id</th>\n",
       "      <th>movie_name</th>\n",
       "      <th>movie_release_date</th>\n",
       "      <th>box_office_revenue</th>\n",
       "      <th>runtime</th>\n",
       "      <th>languages</th>\n",
       "      <th>countries</th>\n",
       "      <th>genres</th>\n",
       "      <th>movie_release_year</th>\n",
       "      <th>title</th>\n",
       "      <th>title_from_second</th>\n",
       "      <th>release_date</th>\n",
       "      <th>imdb_id</th>\n",
       "      <th>averageRating</th>\n",
       "      <th>numVotes</th>\n",
       "      <th>lead_actor_1</th>\n",
       "      <th>lead_actor_2</th>\n",
       "    </tr>\n",
       "  </thead>\n",
       "  <tbody>\n",
       "    <tr>\n",
       "      <th>0</th>\n",
       "      <td>975900</td>\n",
       "      <td>/m/03vyhn</td>\n",
       "      <td>ghosts of mars</td>\n",
       "      <td>2001-08-24</td>\n",
       "      <td>14010832.0</td>\n",
       "      <td>98.0</td>\n",
       "      <td>[English]</td>\n",
       "      <td>[United States of America]</td>\n",
       "      <td>[Thriller, Science Fiction, Horror, Adventure,...</td>\n",
       "      <td>2001</td>\n",
       "      <td>ghosts of mars</td>\n",
       "      <td>ghosts of mars</td>\n",
       "      <td>2001-08-24</td>\n",
       "      <td>tt0228333</td>\n",
       "      <td>4.9</td>\n",
       "      <td>58910.0</td>\n",
       "      <td>Natasha Henstridge</td>\n",
       "      <td>Ice Cube</td>\n",
       "    </tr>\n",
       "    <tr>\n",
       "      <th>1</th>\n",
       "      <td>3196793</td>\n",
       "      <td>/m/08yl5d</td>\n",
       "      <td>getting away with murder: the jonbenét ramsey ...</td>\n",
       "      <td>2000-02-16</td>\n",
       "      <td>0.0</td>\n",
       "      <td>95.0</td>\n",
       "      <td>[English]</td>\n",
       "      <td>[United States of America]</td>\n",
       "      <td>[Mystery, Biographical film, Drama, Crime Drama]</td>\n",
       "      <td>2000</td>\n",
       "      <td>getting away with murder: the jonbenét ramsey ...</td>\n",
       "      <td>getting away with murder: the jonbenét ramsey ...</td>\n",
       "      <td>2000-02-16</td>\n",
       "      <td>tt0245916</td>\n",
       "      <td>6.1</td>\n",
       "      <td>77.0</td>\n",
       "      <td>Alice Barrett</td>\n",
       "      <td>Rod Britt</td>\n",
       "    </tr>\n",
       "  </tbody>\n",
       "</table>\n",
       "</div>"
      ],
      "text/plain": [
       "   wikipedia_movie_id freebase_movie_id  \\\n",
       "0              975900         /m/03vyhn   \n",
       "1             3196793         /m/08yl5d   \n",
       "\n",
       "                                          movie_name movie_release_date  \\\n",
       "0                                     ghosts of mars         2001-08-24   \n",
       "1  getting away with murder: the jonbenét ramsey ...         2000-02-16   \n",
       "\n",
       "   box_office_revenue  runtime  languages                   countries  \\\n",
       "0          14010832.0     98.0  [English]  [United States of America]   \n",
       "1                 0.0     95.0  [English]  [United States of America]   \n",
       "\n",
       "                                              genres  movie_release_year  \\\n",
       "0  [Thriller, Science Fiction, Horror, Adventure,...                2001   \n",
       "1   [Mystery, Biographical film, Drama, Crime Drama]                2000   \n",
       "\n",
       "                                               title  \\\n",
       "0                                     ghosts of mars   \n",
       "1  getting away with murder: the jonbenét ramsey ...   \n",
       "\n",
       "                                   title_from_second release_date    imdb_id  \\\n",
       "0                                     ghosts of mars   2001-08-24  tt0228333   \n",
       "1  getting away with murder: the jonbenét ramsey ...   2000-02-16  tt0245916   \n",
       "\n",
       "   averageRating  numVotes        lead_actor_1 lead_actor_2  \n",
       "0            4.9   58910.0  Natasha Henstridge     Ice Cube  \n",
       "1            6.1      77.0       Alice Barrett    Rod Britt  "
      ]
     },
     "execution_count": 47,
     "metadata": {},
     "output_type": "execute_result"
    }
   ],
   "source": [
    "# Merge the lead actors into movie data\n",
    "movie_data_merged = merge_lead_actors_and_ratings(movie_data_merged, imdb_names, imdb_ratings, filtered_lead_actors)\n",
    "movie_data_merged.head(2)\n"
   ]
  },
  {
   "cell_type": "code",
   "execution_count": 48,
   "id": "f6d15017",
   "metadata": {},
   "outputs": [
    {
     "name": "stdout",
     "output_type": "stream",
     "text": [
      "We have 19652 rows in our merged movies dataset.\n"
     ]
    }
   ],
   "source": [
    "print(f\"We have {movie_data_merged.shape[0]} rows in our merged movies dataset.\")"
   ]
  },
  {
   "cell_type": "markdown",
   "id": "4bc6b555",
   "metadata": {},
   "source": [
    "### Adding inflation data and inflation adjusted box office\n",
    "We now want to merge with inflation data from the US Labor bureau (https://data.bls.gov/timeseries/CUUR0000SA0L1E?output_view=pct_12mths). We choose the United States inflation as our measure for inflation because, as will be discussed in the Deeper Analysis, the movies listed are overwhelmingly produced in the USA."
   ]
  },
  {
   "cell_type": "code",
   "execution_count": 49,
   "id": "a99d3e1d",
   "metadata": {},
   "outputs": [
    {
     "name": "stdout",
     "output_type": "stream",
     "text": [
      "Percentage of movies remaining after filtering for missing inflation data or impossible release date: 86.02%\n"
     ]
    },
    {
     "data": {
      "text/html": [
       "<div>\n",
       "<style scoped>\n",
       "    .dataframe tbody tr th:only-of-type {\n",
       "        vertical-align: middle;\n",
       "    }\n",
       "\n",
       "    .dataframe tbody tr th {\n",
       "        vertical-align: top;\n",
       "    }\n",
       "\n",
       "    .dataframe thead th {\n",
       "        text-align: right;\n",
       "    }\n",
       "</style>\n",
       "<table border=\"1\" class=\"dataframe\">\n",
       "  <thead>\n",
       "    <tr style=\"text-align: right;\">\n",
       "      <th></th>\n",
       "      <th>wikipedia_movie_id</th>\n",
       "      <th>freebase_movie_id</th>\n",
       "      <th>movie_name</th>\n",
       "      <th>movie_release_date</th>\n",
       "      <th>box_office_revenue</th>\n",
       "      <th>runtime</th>\n",
       "      <th>languages</th>\n",
       "      <th>countries</th>\n",
       "      <th>genres</th>\n",
       "      <th>movie_release_year</th>\n",
       "      <th>...</th>\n",
       "      <th>release_date</th>\n",
       "      <th>imdb_id</th>\n",
       "      <th>averageRating</th>\n",
       "      <th>numVotes</th>\n",
       "      <th>lead_actor_1</th>\n",
       "      <th>lead_actor_2</th>\n",
       "      <th>release_year</th>\n",
       "      <th>Year</th>\n",
       "      <th>Compounded_Inflation</th>\n",
       "      <th>adjusted_box_office</th>\n",
       "    </tr>\n",
       "  </thead>\n",
       "  <tbody>\n",
       "    <tr>\n",
       "      <th>0</th>\n",
       "      <td>975900</td>\n",
       "      <td>/m/03vyhn</td>\n",
       "      <td>ghosts of mars</td>\n",
       "      <td>2001-08-24</td>\n",
       "      <td>14010832.0</td>\n",
       "      <td>98.0</td>\n",
       "      <td>[English]</td>\n",
       "      <td>[United States of America]</td>\n",
       "      <td>[Thriller, Science Fiction, Horror, Adventure,...</td>\n",
       "      <td>2001</td>\n",
       "      <td>...</td>\n",
       "      <td>2001-08-24</td>\n",
       "      <td>tt0228333</td>\n",
       "      <td>4.9</td>\n",
       "      <td>58910.0</td>\n",
       "      <td>Natasha Henstridge</td>\n",
       "      <td>Ice Cube</td>\n",
       "      <td>2001</td>\n",
       "      <td>2001</td>\n",
       "      <td>542.909126</td>\n",
       "      <td>2.323395e+07</td>\n",
       "    </tr>\n",
       "    <tr>\n",
       "      <th>1</th>\n",
       "      <td>3196793</td>\n",
       "      <td>/m/08yl5d</td>\n",
       "      <td>getting away with murder: the jonbenét ramsey ...</td>\n",
       "      <td>2000-02-16</td>\n",
       "      <td>0.0</td>\n",
       "      <td>95.0</td>\n",
       "      <td>[English]</td>\n",
       "      <td>[United States of America]</td>\n",
       "      <td>[Mystery, Biographical film, Drama, Crime Drama]</td>\n",
       "      <td>2000</td>\n",
       "      <td>...</td>\n",
       "      <td>2000-02-16</td>\n",
       "      <td>tt0245916</td>\n",
       "      <td>6.1</td>\n",
       "      <td>77.0</td>\n",
       "      <td>Alice Barrett</td>\n",
       "      <td>Rod Britt</td>\n",
       "      <td>2000</td>\n",
       "      <td>2000</td>\n",
       "      <td>526.617082</td>\n",
       "      <td>0.000000e+00</td>\n",
       "    </tr>\n",
       "  </tbody>\n",
       "</table>\n",
       "<p>2 rows × 22 columns</p>\n",
       "</div>"
      ],
      "text/plain": [
       "   wikipedia_movie_id freebase_movie_id  \\\n",
       "0              975900         /m/03vyhn   \n",
       "1             3196793         /m/08yl5d   \n",
       "\n",
       "                                          movie_name movie_release_date  \\\n",
       "0                                     ghosts of mars         2001-08-24   \n",
       "1  getting away with murder: the jonbenét ramsey ...         2000-02-16   \n",
       "\n",
       "   box_office_revenue  runtime  languages                   countries  \\\n",
       "0          14010832.0     98.0  [English]  [United States of America]   \n",
       "1                 0.0     95.0  [English]  [United States of America]   \n",
       "\n",
       "                                              genres  movie_release_year  ...  \\\n",
       "0  [Thriller, Science Fiction, Horror, Adventure,...                2001  ...   \n",
       "1   [Mystery, Biographical film, Drama, Crime Drama]                2000  ...   \n",
       "\n",
       "  release_date    imdb_id averageRating numVotes        lead_actor_1  \\\n",
       "0   2001-08-24  tt0228333           4.9  58910.0  Natasha Henstridge   \n",
       "1   2000-02-16  tt0245916           6.1     77.0       Alice Barrett   \n",
       "\n",
       "   lead_actor_2 release_year  Year  Compounded_Inflation  adjusted_box_office  \n",
       "0      Ice Cube         2001  2001            542.909126         2.323395e+07  \n",
       "1     Rod Britt         2000  2000            526.617082         0.000000e+00  \n",
       "\n",
       "[2 rows x 22 columns]"
      ]
     },
     "execution_count": 49,
     "metadata": {},
     "output_type": "execute_result"
    }
   ],
   "source": [
    "movie_inflation_data, filtered_percentage = adjust_inflation(movie_data_merged)\n",
    "print(f\"Percentage of movies remaining after filtering for missing inflation data or impossible release date: {(1-filtered_percentage):.2%}\")\n",
    "\n",
    "movie_inflation_data.head(2)"
   ]
  },
  {
   "cell_type": "markdown",
   "id": "b6db28a2",
   "metadata": {},
   "source": [
    "## Cleaning and removing outliers\n",
    "\n",
    "Before analyzing the data any further, let's clean our data and remove outliers."
   ]
  },
  {
   "cell_type": "markdown",
   "id": "e9903b82",
   "metadata": {},
   "source": [
    "### Character dataset"
   ]
  },
  {
   "cell_type": "markdown",
   "id": "8c8438f2",
   "metadata": {},
   "source": [
    "First thing we want to do is to make our ethnicites human readable. To do it we used the wikidata API to map the IDs. We created a CSV file to avoid making multiple request each time we run the notebook."
   ]
  },
  {
   "cell_type": "code",
   "execution_count": 33,
   "id": "46e1d5b4",
   "metadata": {},
   "outputs": [
    {
     "name": "stdout",
     "output_type": "stream",
     "text": [
      "Ethnicity data already fetched.\n"
     ]
    }
   ],
   "source": [
    "merged_character_data = map_ethnicities(character_data)"
   ]
  },
  {
   "cell_type": "markdown",
   "id": "56b9ceea",
   "metadata": {},
   "source": [
    "We can now do more basic preprocessing. For more details, please have a look to our function in src/data_preprocessing.py. "
   ]
  },
  {
   "cell_type": "code",
   "execution_count": 34,
   "id": "d3a80124",
   "metadata": {},
   "outputs": [
    {
     "name": "stdout",
     "output_type": "stream",
     "text": [
      "Number of ages retrieved through calculation (using movie release data and actor dob): 21038\n",
      "Removing NaN reduced the dataset by: 90.18%\n",
      "Removing invalid actor heights reduced that dataset by 0.52%.\n",
      "Removing invalid actor ages reduced that dataset by 0.06%.\n",
      "Removing ethnicity labels which are uncommon reduced that dataset by 0.89%.\n"
     ]
    }
   ],
   "source": [
    "character_data_valid = preprocess_characters(merged_character_data)"
   ]
  },
  {
   "cell_type": "code",
   "execution_count": 35,
   "id": "8d87abf8",
   "metadata": {},
   "outputs": [
    {
     "name": "stdout",
     "output_type": "stream",
     "text": [
      "Number of characters after preprocessing: 43672.\n"
     ]
    }
   ],
   "source": [
    "# Print the final dataset size\n",
    "print(f\"Number of characters after preprocessing: {character_data_valid.shape[0]}.\")"
   ]
  },
  {
   "cell_type": "code",
   "execution_count": 36,
   "id": "db8a2fc1",
   "metadata": {},
   "outputs": [
    {
     "data": {
      "text/plain": [
       "wikipedia_movie_id        0.000000\n",
       "freebase_movie_id         0.000000\n",
       "movie_release_date        0.220256\n",
       "character_name            0.000000\n",
       "actor_dob                 0.000000\n",
       "actor_gender              0.000000\n",
       "actor_height              0.000000\n",
       "actor_name                0.000000\n",
       "actor_age_at_release      0.000000\n",
       "character_actor_map_id    0.000000\n",
       "character_id              0.000000\n",
       "actor_id                  0.000000\n",
       "actor_ethnicity_label     0.000000\n",
       "dtype: float64"
      ]
     },
     "execution_count": 36,
     "metadata": {},
     "output_type": "execute_result"
    }
   ],
   "source": [
    "# Check that no nan values still there\n",
    "character_data_valid.isnull().mean()"
   ]
  },
  {
   "cell_type": "markdown",
   "id": "5eae88aa",
   "metadata": {},
   "source": [
    "This is good. We don't care about the movie_release_date here."
   ]
  },
  {
   "cell_type": "markdown",
   "id": "08e02989",
   "metadata": {},
   "source": [
    "### Movies dataset\n",
    "\n",
    "We will also remove the outliers and preprocess the movie dataset."
   ]
  },
  {
   "cell_type": "code",
   "execution_count": 53,
   "id": "6ab4a692",
   "metadata": {},
   "outputs": [
    {
     "name": "stdout",
     "output_type": "stream",
     "text": [
      "Removing NaN reduced the dataset by: 19.92%\n",
      "Removing movies released before 1940 reduced the dataset by: 0.00%\n",
      "Removing movies lasting less than 1h or more than 3 hours 20mins reduced the dataset by: 4.46%\n",
      "Removing movies that have less than 500 votes: 27.03%\n",
      "Removing movies that have no box office revenue: 50.62%\n"
     ]
    }
   ],
   "source": [
    "movie_data_valid = preprocess_movies(movie_inflation_data)"
   ]
  },
  {
   "cell_type": "code",
   "execution_count": 54,
   "id": "5d0252f7",
   "metadata": {},
   "outputs": [
    {
     "name": "stdout",
     "output_type": "stream",
     "text": [
      "Number of movies after preprocessing: 3493.\n"
     ]
    }
   ],
   "source": [
    "print(f\"Number of movies after preprocessing: {movie_data_valid.shape[0]}.\")"
   ]
  },
  {
   "cell_type": "code",
   "execution_count": 55,
   "id": "6224c42e",
   "metadata": {},
   "outputs": [
    {
     "data": {
      "text/plain": [
       "wikipedia_movie_id     0.0\n",
       "freebase_movie_id      0.0\n",
       "movie_name             0.0\n",
       "movie_release_date     0.0\n",
       "box_office_revenue     0.0\n",
       "runtime                0.0\n",
       "languages              0.0\n",
       "countries              0.0\n",
       "genres                 0.0\n",
       "imdb_id                0.0\n",
       "averageRating          0.0\n",
       "numVotes               0.0\n",
       "lead_actor_1           0.0\n",
       "lead_actor_2           0.0\n",
       "adjusted_box_office    0.0\n",
       "dtype: float64"
      ]
     },
     "execution_count": 55,
     "metadata": {},
     "output_type": "execute_result"
    }
   ],
   "source": [
    "# Check that no nan values still there\n",
    "movie_data_valid.isnull().mean()"
   ]
  },
  {
   "cell_type": "markdown",
   "id": "6a33d6f9",
   "metadata": {},
   "source": [
    "That looks perfect!"
   ]
  },
  {
   "cell_type": "markdown",
   "id": "5893cdd2",
   "metadata": {},
   "source": [
    "## Movies subset creation with complete lead actors data \n",
    "\n",
    "Now that we have the two main actors of each movie, let's see if we have corresponding characteristics in the preprocessed character dataset. First we will extract the characters data of all our lead actors in all our films."
   ]
  },
  {
   "cell_type": "code",
   "execution_count": 56,
   "id": "cdf7fe45",
   "metadata": {},
   "outputs": [
    {
     "name": "stdout",
     "output_type": "stream",
     "text": [
      "Missing values in lead actor data:\n",
      "actor_name               0.0\n",
      "actor_dob                0.0\n",
      "actor_gender             0.0\n",
      "actor_ethnicity_label    0.0\n",
      "actor_height             0.0\n",
      "actor_age_at_release     0.0\n",
      "dtype: float64\n"
     ]
    }
   ],
   "source": [
    "lead_actor_data = extract_movies_with_lead_actors_data(movie_data_valid, character_data_valid)"
   ]
  },
  {
   "cell_type": "markdown",
   "id": "b653bfc3",
   "metadata": {},
   "source": [
    "No missing value makes sense since we preprocessed our character data. Let's try now to see how much data we have on our lead actors."
   ]
  },
  {
   "cell_type": "code",
   "execution_count": 57,
   "id": "adc0cc07",
   "metadata": {},
   "outputs": [
    {
     "name": "stdout",
     "output_type": "stream",
     "text": [
      "We have data for 45.018608645863154% (3145 actors) of our lead actors\n"
     ]
    }
   ],
   "source": [
    "print(f\"We have data for {lead_actor_data.shape[0]/(movie_data_valid['lead_actor_1'].notna().sum() + movie_data_valid['lead_actor_2'].notna().sum())*100}% ({lead_actor_data.shape[0]} actors) of our lead actors\")"
   ]
  },
  {
   "cell_type": "markdown",
   "id": "b1be30b0",
   "metadata": {},
   "source": [
    "Ok good, let's now create a subset dataframe that will contains only the movies for which we have complete data on the lead actors."
   ]
  },
  {
   "cell_type": "code",
   "execution_count": 58,
   "id": "1dd31290",
   "metadata": {},
   "outputs": [],
   "source": [
    "subset_movies_with_lead_actors_data = movie_data_valid[movie_data_valid['freebase_movie_id'].isin(lead_actor_data['freebase_movie_id'])]"
   ]
  },
  {
   "cell_type": "code",
   "execution_count": 59,
   "id": "76ca770f",
   "metadata": {},
   "outputs": [
    {
     "name": "stdout",
     "output_type": "stream",
     "text": [
      "We have 2232 movies for which we have full data on our lead actors\n"
     ]
    }
   ],
   "source": [
    "print(f\"We have {subset_movies_with_lead_actors_data.shape[0]} movies for which we have full data on our lead actors\")"
   ]
  },
  {
   "cell_type": "markdown",
   "id": "34957642",
   "metadata": {},
   "source": [
    "Now that we have this movies subset, we can extract the corresponding lead actors and characters subsets for these movies."
   ]
  },
  {
   "cell_type": "code",
   "execution_count": 60,
   "id": "de36a4b4",
   "metadata": {},
   "outputs": [
    {
     "data": {
      "text/html": [
       "<div>\n",
       "<style scoped>\n",
       "    .dataframe tbody tr th:only-of-type {\n",
       "        vertical-align: middle;\n",
       "    }\n",
       "\n",
       "    .dataframe tbody tr th {\n",
       "        vertical-align: top;\n",
       "    }\n",
       "\n",
       "    .dataframe thead th {\n",
       "        text-align: right;\n",
       "    }\n",
       "</style>\n",
       "<table border=\"1\" class=\"dataframe\">\n",
       "  <thead>\n",
       "    <tr style=\"text-align: right;\">\n",
       "      <th></th>\n",
       "      <th>actor_name</th>\n",
       "      <th>actor_dob</th>\n",
       "      <th>actor_gender</th>\n",
       "      <th>actor_ethnicity_label</th>\n",
       "      <th>actor_height</th>\n",
       "      <th>actor_age_at_release</th>\n",
       "      <th>freebase_movie_id</th>\n",
       "      <th>character_name</th>\n",
       "    </tr>\n",
       "  </thead>\n",
       "  <tbody>\n",
       "    <tr>\n",
       "      <th>2</th>\n",
       "      <td>Ice Cube</td>\n",
       "      <td>1969-06-15 00:00:00</td>\n",
       "      <td>M</td>\n",
       "      <td>African Americans</td>\n",
       "      <td>1.727</td>\n",
       "      <td>32.0</td>\n",
       "      <td>/m/03vyhn</td>\n",
       "      <td>Desolation Williams</td>\n",
       "    </tr>\n",
       "    <tr>\n",
       "      <th>5</th>\n",
       "      <td>Pam Grier</td>\n",
       "      <td>1949-05-26 00:00:00</td>\n",
       "      <td>F</td>\n",
       "      <td>African Americans</td>\n",
       "      <td>1.727</td>\n",
       "      <td>52.0</td>\n",
       "      <td>/m/03vyhn</td>\n",
       "      <td>Commander Helena Braddock</td>\n",
       "    </tr>\n",
       "  </tbody>\n",
       "</table>\n",
       "</div>"
      ],
      "text/plain": [
       "  actor_name            actor_dob actor_gender actor_ethnicity_label  \\\n",
       "2   Ice Cube  1969-06-15 00:00:00            M     African Americans   \n",
       "5  Pam Grier  1949-05-26 00:00:00            F     African Americans   \n",
       "\n",
       "   actor_height  actor_age_at_release freebase_movie_id  \\\n",
       "2         1.727                  32.0         /m/03vyhn   \n",
       "5         1.727                  52.0         /m/03vyhn   \n",
       "\n",
       "              character_name  \n",
       "2        Desolation Williams  \n",
       "5  Commander Helena Braddock  "
      ]
     },
     "execution_count": 60,
     "metadata": {},
     "output_type": "execute_result"
    }
   ],
   "source": [
    "# Filter the character_data_valid dataset to keep only rows with freebase_movie_id present in movie_data_extracted\n",
    "subset_characters_with_lead_actor_data = character_data_valid[character_data_valid['freebase_movie_id'].isin(subset_movies_with_lead_actors_data['freebase_movie_id'])]\n",
    "\n",
    "# Extract the relevant columns for characters and associated movies\n",
    "subset_characters_with_lead_actor_data = subset_characters_with_lead_actor_data[['actor_name', 'actor_dob', 'actor_gender', 'actor_ethnicity_label', 'actor_height', 'actor_age_at_release', 'freebase_movie_id', 'character_name']]\n",
    "\n",
    "# Display the first few rows of the filtered and extracted data\n",
    "subset_characters_with_lead_actor_data.head(2)\n"
   ]
  },
  {
   "cell_type": "code",
   "execution_count": 61,
   "id": "32dfc305",
   "metadata": {},
   "outputs": [
    {
     "name": "stdout",
     "output_type": "stream",
     "text": [
      "We have 8243 characters for the movies subset.\n"
     ]
    }
   ],
   "source": [
    "print(f\"We have {subset_characters_with_lead_actor_data.shape[0]} characters for the movies subset.\")"
   ]
  },
  {
   "cell_type": "code",
   "execution_count": 62,
   "id": "935bd657",
   "metadata": {},
   "outputs": [
    {
     "name": "stdout",
     "output_type": "stream",
     "text": [
      "Missing values in lead actor data:\n",
      "actor_name               0.0\n",
      "actor_dob                0.0\n",
      "actor_gender             0.0\n",
      "actor_ethnicity_label    0.0\n",
      "actor_height             0.0\n",
      "actor_age_at_release     0.0\n",
      "dtype: float64\n"
     ]
    }
   ],
   "source": [
    "subset_lead_actors = extract_movies_with_lead_actors_data(subset_movies_with_lead_actors_data, character_data_valid)"
   ]
  },
  {
   "cell_type": "code",
   "execution_count": 63,
   "id": "77311f83",
   "metadata": {},
   "outputs": [
    {
     "name": "stdout",
     "output_type": "stream",
     "text": [
      "We have 3145 lead actors for the movies subset.\n"
     ]
    }
   ],
   "source": [
    "print(f\"We have {subset_lead_actors.shape[0]} lead actors for the movies subset.\")"
   ]
  },
  {
   "cell_type": "markdown",
   "id": "e56351b7",
   "metadata": {},
   "source": [
    "## Saving our newly created dataframes\n",
    "\n",
    "We will save our five dataframes:\n",
    "\n",
    "- full_movie_data_preprocessed that contains all the movies preprocessed \n",
    "- full_characters_data_preprocessed that contains all the characters preprocessed\n",
    "- subset_movies_with_lead_actors_data that contains movies where we have data on all the lead actors\n",
    "- lead_actors_data_on_subset_movie that contains information on the lead actors of the previous subset\n",
    "- character_data_valid_filtered that contains information on all the characters of the previous subset"
   ]
  },
  {
   "cell_type": "code",
   "execution_count": 64,
   "id": "cf9f7c8d",
   "metadata": {},
   "outputs": [],
   "source": [
    "preprocessed_path = 'data/preprocessed'\n",
    "\n",
    "# Ensure the directory exists\n",
    "os.makedirs(preprocessed_path, exist_ok=True)\n",
    "\n",
    "preprocessed_names = {\n",
    "    'full_movie_data_preprocessed.csv': movie_data_valid,\n",
    "    'full_characters_data_preprocessed.csv': character_data_valid,\n",
    "    'subset_movie_with_full_data_on_lead_actors.csv': subset_movies_with_lead_actors_data,\n",
    "    'lead_actors_data_on_subset_movie.csv': subset_lead_actors,\n",
    "    'characters_data_on_subset_movie.csv': subset_characters_with_lead_actor_data,\n",
    "}\n",
    "\n",
    "for name, df in preprocessed_names.items():\n",
    "    df.to_csv(os.path.join(preprocessed_path, name), index=False)"
   ]
  },
  {
   "cell_type": "markdown",
   "id": "c356afe5",
   "metadata": {},
   "source": [
    "## Loading our preprocessed dataframes\n",
    "\n",
    "We can skip all the preprocessing process (all the cells before except imports) and load our dataframes directly here:"
   ]
  },
  {
   "cell_type": "code",
   "execution_count": null,
   "id": "5b28bb73",
   "metadata": {},
   "outputs": [],
   "source": [
    "# Load the preprocessed datasets\n",
    "full_movie_data_preprocessed = pd.read_csv('data/preprocessed/full_movie_data_preprocessed.csv')\n",
    "full_characters_data_preprocessed = pd.read_csv('data/preprocessed/full_characters_data_preprocessed.csv')\n",
    "subset_movie_with_full_data_on_lead_actors = pd.read_csv('data/preprocessed/subset_movie_with_full_data_on_lead_actors.csv')\n",
    "lead_actors_data_on_subset_movie = pd.read_csv('data/preprocessed/lead_actors_data_on_subset_movie.csv')\n",
    "characters_data_on_subset_movie = pd.read_csv('data/preprocessed/characters_data_on_subset_movie.csv')\n",
    "\n",
    "# We must convert dates to datetime\n",
    "lead_actors_data_on_subset_movie['actor_dob'] = pd.to_datetime(lead_actors_data_on_subset_movie['actor_dob'])\n",
    "characters_data_on_subset_movie['actor_dob'] = pd.to_datetime(characters_data_on_subset_movie['actor_dob'])\n",
    "full_movie_data_preprocessed['movie_release_date'] = pd.to_datetime(full_movie_data_preprocessed['movie_release_date'])\n"
   ]
  },
  {
   "cell_type": "markdown",
   "id": "d5ab0a23",
   "metadata": {},
   "source": [
    "## Deeper analysis\n",
    "Now that our data is preprocessed and complted, we can do a more in deep analysis."
   ]
  },
  {
   "cell_type": "markdown",
   "id": "e951bc2b",
   "metadata": {},
   "source": [
    "### Lead actors dataset \n",
    "\n",
    "Let's first analyze our dataframe with the lead actors just created. We will start with a summary of the statistics of the numerical features."
   ]
  },
  {
   "cell_type": "code",
   "execution_count": null,
   "id": "63edf36a",
   "metadata": {},
   "outputs": [],
   "source": [
    "lead_actors_data_on_subset_movie.describe()"
   ]
  },
  {
   "cell_type": "markdown",
   "id": "74caf699",
   "metadata": {},
   "source": [
    "Let's print their distributions:"
   ]
  },
  {
   "cell_type": "code",
   "execution_count": null,
   "id": "fe5c4c43",
   "metadata": {},
   "outputs": [],
   "source": [
    "histogram_actors(lead_actors_data_on_subset_movie)"
   ]
  },
  {
   "cell_type": "markdown",
   "id": "2067ac33",
   "metadata": {},
   "source": [
    "Let's now explore the categorical data."
   ]
  },
  {
   "cell_type": "code",
   "execution_count": null,
   "id": "70b0978c",
   "metadata": {},
   "outputs": [],
   "source": [
    "count_actors(lead_actors_data_on_subset_movie)"
   ]
  },
  {
   "cell_type": "markdown",
   "id": "4d287f74",
   "metadata": {},
   "source": [
    "We can visualize here the correlation matrix between the numerical attributes of the actors."
   ]
  },
  {
   "cell_type": "code",
   "execution_count": null,
   "id": "34d94a8b",
   "metadata": {},
   "outputs": [],
   "source": [
    "fig, ax = plt.subplots(figsize = (8,6))\n",
    "\n",
    "lead_actors_for_corr = lead_actors_data_on_subset_movie[['actor_height', 'actor_age_at_release', 'actor_dob', 'actor_gender']]\n",
    "# Convert gender to boolean by getting dummies\n",
    "lead_actors_gender_dummies = pd.get_dummies(lead_actors_for_corr['actor_gender'])\n",
    "lead_actors_for_corr.drop('actor_gender', axis=1, inplace=True)\n",
    "lead_actors_for_corr = lead_actors_for_corr.join(lead_actors_gender_dummies)\n",
    "# lead_actors_for_corr['F'] = lead_actors_gender_dummies['F']\n",
    "# lead_actors_for_corr['M'] = lead_actors_gender_dummies['M']\n",
    "corr_matrix = lead_actors_for_corr.corr()\n",
    "label_names = ['Height', 'Age at release']\n",
    "ax = sns.heatmap(corr_matrix, annot=True, cmap='coolwarm', xticklabels=label_names, yticklabels=label_names)\n",
    "ax.set_title('Heatmap of some actors attributes');\n"
   ]
  },
  {
   "cell_type": "markdown",
   "id": "e3f48297",
   "metadata": {},
   "source": [
    "### Characters dataset\n",
    "\n",
    "We now analyze the dataframe with the characters (including non-lead actors). We again start with a summary of the statistics of the numerical features."
   ]
  },
  {
   "cell_type": "code",
   "execution_count": null,
   "id": "2ff57aee",
   "metadata": {},
   "outputs": [],
   "source": [
    "characters_data_on_subset_movie.describe()"
   ]
  },
  {
   "cell_type": "markdown",
   "id": "548c2f07",
   "metadata": {},
   "source": [
    "Let's do some plots to visualize better. As it is very similar as the plots from the lead actors dataset, we will compare our plots with the ones from this dataset."
   ]
  },
  {
   "cell_type": "code",
   "execution_count": null,
   "id": "1855d727",
   "metadata": {},
   "outputs": [],
   "source": [
    "fig, axes = plt.subplots(1, 3, figsize=(18, 5))\n",
    "\n",
    "histogram_actors(characters_data_on_subset_movie, axes=axes)\n",
    "histogram_actors(lead_actors_data_on_subset_movie, axes=axes)\n",
    "\n",
    "fig.tight_layout()\n",
    "fig.legend([\"All actors\", \"Lead actors\"], loc='upper center', bbox_to_anchor=(0.5, 1.05), ncol=2)\n"
   ]
  },
  {
   "cell_type": "markdown",
   "id": "0ea2ecd5",
   "metadata": {},
   "source": [
    "Finally we compare the gender distribution between all actors and only lead actors."
   ]
  },
  {
   "cell_type": "code",
   "execution_count": null,
   "id": "556887b6",
   "metadata": {},
   "outputs": [],
   "source": [
    "fig, ax = plt.subplots(figsize = (12, 6))\n",
    "width = 0.4\n",
    "\n",
    "gender_dist_all = characters_data_on_subset_movie['actor_gender'].value_counts(normalize=True) * 100\n",
    "gender_dist_lead = lead_actors_data_on_subset_movie['actor_gender'].value_counts(normalize=True) * 100\n",
    "labels = list(gender_dist_all.keys())\n",
    "\n",
    "bar_all = ax.bar(labels, gender_dist_all, -width, label=\"All actors\", align='edge')\n",
    "bar_lead = ax.bar(labels, gender_dist_lead, width, label=\"Lead actors\", align='edge')\n",
    "\n",
    "ax.set_title(\"Comparison of actors' gender distribution between lead roles and all roles\")\n",
    "ax.set_xlabel(\"Gender\")\n",
    "ax.set_ylabel(\"Percent\")\n",
    "plt.grid(axis='y', linestyle='--', alpha=0.5)\n",
    "\n",
    "ax.legend()\n",
    "plt.show()"
   ]
  },
  {
   "cell_type": "markdown",
   "id": "a8f7792b",
   "metadata": {},
   "source": [
    "### Movies dataset \n",
    "\n",
    "Let's now analyse our movies dataset. We will start with a summary of the statistics of the numerical features."
   ]
  },
  {
   "cell_type": "code",
   "execution_count": null,
   "id": "366f207a",
   "metadata": {},
   "outputs": [],
   "source": [
    "movie_data_completed = full_movie_data_preprocessed.copy()\n",
    "movie_data_completed.describe()"
   ]
  },
  {
   "cell_type": "markdown",
   "id": "43d9a852",
   "metadata": {},
   "source": [
    "Let's print their distributions (except for the wikipedia id):"
   ]
  },
  {
   "cell_type": "code",
   "execution_count": null,
   "id": "f1bcf2c1",
   "metadata": {},
   "outputs": [],
   "source": [
    "histogram_movies(movie_data_completed)"
   ]
  },
  {
   "cell_type": "markdown",
   "id": "7e2c2eb7",
   "metadata": {},
   "source": [
    "Let's now look at the ratings and number of votes per movie."
   ]
  },
  {
   "cell_type": "code",
   "execution_count": null,
   "id": "d68c015f",
   "metadata": {},
   "outputs": [],
   "source": [
    "histogram_movie_ratings(movie_data_completed)"
   ]
  },
  {
   "cell_type": "markdown",
   "id": "38bfe28f",
   "metadata": {},
   "source": [
    "We can now have a look at the categorical features:"
   ]
  },
  {
   "cell_type": "code",
   "execution_count": null,
   "id": "8470dd2f",
   "metadata": {},
   "outputs": [],
   "source": [
    "count_movies(movie_data_completed)"
   ]
  },
  {
   "cell_type": "markdown",
   "id": "7b95a393",
   "metadata": {},
   "source": [
    "As we can expect, the English language and United States of America clearly dominate the movie industry."
   ]
  },
  {
   "cell_type": "markdown",
   "id": "8aa557ec",
   "metadata": {},
   "source": [
    "### Inflation Box Office Revenue\n",
    "Now that we have the adjusted box office results, let us compare the mean box office results adjusted/not adjusted for inflation through time."
   ]
  },
  {
   "cell_type": "code",
   "execution_count": null,
   "id": "27a04810",
   "metadata": {},
   "outputs": [],
   "source": [
    "inflation_plots(movie_data_completed)\n"
   ]
  },
  {
   "cell_type": "markdown",
   "id": "f5488de6",
   "metadata": {},
   "source": [
    "Interesting, it seems like older movies performed similarily or even better than modern movies when adjusted for inflation.\n",
    "It could be that we only have data on more successful old movies, and that those that did not perform well were lost to time.\n",
    "As such, let us test the average box office revenue for the 10 highest grossing movies each year."
   ]
  },
  {
   "cell_type": "code",
   "execution_count": null,
   "id": "8bb8b9d2",
   "metadata": {},
   "outputs": [],
   "source": [
    "inflation_plots(movie_data_completed, True)"
   ]
  },
  {
   "cell_type": "markdown",
   "id": "3aba08c2",
   "metadata": {},
   "source": [
    "It seems that even adjusted for inflation, box office revenue of the biggest blockbusters are on the rise."
   ]
  },
  {
   "cell_type": "markdown",
   "id": "81d49597",
   "metadata": {},
   "source": [
    "### Low vs. high rating/revenue analysis"
   ]
  },
  {
   "cell_type": "markdown",
   "id": "77e8e0e0",
   "metadata": {},
   "source": [
    "Now let's see at the difference between low and high rated movies as well as between movies with low and high box office revenues!"
   ]
  },
  {
   "cell_type": "code",
   "execution_count": null,
   "id": "f70c3467",
   "metadata": {},
   "outputs": [],
   "source": [
    "# Split the movies by the median rating and median box office revenue\n",
    "median_rating = full_movie_data_preprocessed['averageRating'].median()\n",
    "median_box_office = full_movie_data_preprocessed['box_office_revenue'].median()\n",
    "\n",
    "# Add a column to the DataFrame to indicate if the movie has a high rating/box office revenue\n",
    "full_movie_data_preprocessed['high_rating'] = full_movie_data_preprocessed['averageRating'] > median_rating\n",
    "full_movie_data_preprocessed['high_box_office'] = full_movie_data_preprocessed['box_office_revenue'] > median_box_office\n",
    "\n",
    "fig, axes = plt.subplots(2, 3, figsize=(18, 10))\n",
    "\n",
    "histogram_movies(full_movie_data_preprocessed, hue=\"high_rating\", axes=axes[0])\n",
    "histogram_movies(full_movie_data_preprocessed, hue=\"high_box_office\", axes=axes[1])\n",
    "\n",
    "fig.suptitle(\"Comparison of movies with high/low ratings (first row) and high/low box office revenue (second row)\", fontsize=16)\n",
    "fig.tight_layout()\n"
   ]
  },
  {
   "cell_type": "markdown",
   "id": "0785b295",
   "metadata": {},
   "source": [
    "First, we see that the box office was correctly split by low/high revenue (see second plot of the second row).\n",
    "\n",
    "Futhermore, we can observe a slight difference in the runtime distribution between high and low rated/revenue movies.\n",
    "Let's verify this observation with as statistical test.\n",
    "From the graph we can see that the data follows a normal distribution.\n",
    "Therefore, we will make the following null hypothesis that the distributions underlying the samples are uncorrelated and normally distributed."
   ]
  },
  {
   "cell_type": "code",
   "execution_count": null,
   "id": "5b4058db",
   "metadata": {},
   "outputs": [],
   "source": [
    "\n",
    "high_rating = full_movie_data_preprocessed['high_rating']\n",
    "high_box_office = full_movie_data_preprocessed['high_box_office']\n",
    "\n",
    "runtime = full_movie_data_preprocessed['runtime']\n",
    "\n",
    "runtime_high_rating_corr = stats.pearsonr(runtime, high_rating)\n",
    "runtime_high_box_office_corr = stats.pearsonr(runtime, high_box_office)\n",
    "\n",
    "print(f\"Correlation between runtime and high rating: {runtime_high_rating_corr[0]:.3f} (p-value: {runtime_high_rating_corr[1]:.3f})\")\n",
    "print(f\"Correlation between runtime and high box office revenue: {runtime_high_box_office_corr[0]:.3f} (p-value: {runtime_high_box_office_corr[1]:.3f})\")"
   ]
  },
  {
   "cell_type": "markdown",
   "id": "727be229",
   "metadata": {},
   "source": [
    "In both cases we reject the null hypothesis at a significance level of 0.05.\n",
    "Meaning, that in both cases the distribution was not uncorrelated.\n",
    "\n",
    "Now let's look at the average ratings and number of votes."
   ]
  },
  {
   "cell_type": "code",
   "execution_count": null,
   "id": "c911901b",
   "metadata": {},
   "outputs": [],
   "source": [
    "fig, axes = plt.subplots(2, 2, figsize=(12, 10))\n",
    "\n",
    "histogram_movie_ratings(full_movie_data_preprocessed, hue=\"high_rating\", axes=axes[0])\n",
    "histogram_movie_ratings(full_movie_data_preprocessed, hue=\"high_box_office\", axes=axes[1])\n",
    "\n",
    "fig.suptitle(\"Comparison of movies with high/low ratings (first row) and high/low box office revenue (second row)\", fontsize=16)\n",
    "fig.tight_layout()"
   ]
  },
  {
   "cell_type": "markdown",
   "id": "46e28ef8",
   "metadata": {},
   "source": [
    "Again, we see that the data was correctly split by high and low ratings.\n",
    "\n",
    "Futhermore, we can observe that there is difference in the number of votes for high and low rated/revenue movies.\n",
    "Let's verify this observation with as statistical test.\n",
    "From the graph we can see that the data follows a normal distribution.\n",
    "Therefore, we will make the following null hypothesis that the distributions underlying the samples are uncorrelated and normally distributed."
   ]
  },
  {
   "cell_type": "code",
   "execution_count": null,
   "id": "94e1dd55",
   "metadata": {},
   "outputs": [],
   "source": [
    "votes = full_movie_data_preprocessed['numVotes']\n",
    "log_votes = np.log(votes)\n",
    "\n",
    "log_votes_high_rating_corr = stats.pearsonr(log_votes, high_rating)\n",
    "log_votes_high_box_office_corr = stats.pearsonr(log_votes, high_box_office)\n",
    "\n",
    "print(f\"Correlation between log votes and high rating: {log_votes_high_rating_corr[0]:.3f} (p-value: {log_votes_high_rating_corr[1]:.3f})\")\n",
    "print(f\"Correlation between log votes and high box office revenue: {log_votes_high_box_office_corr[0]:.3f} (p-value: {log_votes_high_box_office_corr[1]:.3f})\")"
   ]
  },
  {
   "cell_type": "markdown",
   "id": "81c9edd9",
   "metadata": {},
   "source": [
    "In both cases we reject the null hypothesis at a significance level of 0.05.\n",
    "Meaning, that in both cases the distribution was not uncorrelated.\n",
    "\n",
    "Now, let's look at the categorical features."
   ]
  },
  {
   "cell_type": "code",
   "execution_count": null,
   "id": "f266d92b",
   "metadata": {},
   "outputs": [],
   "source": [
    "fig, axes = plt.subplots(2, 3, figsize=(18, 10))\n",
    "\n",
    "count_movies(full_movie_data_preprocessed, hue=\"high_rating\", axes=axes[0])\n",
    "count_movies(full_movie_data_preprocessed, hue=\"high_box_office\", axes=axes[1])\n",
    "\n",
    "fig.suptitle(\"Comparison of movies with high/low ratings (first row) and high/low box office revenue (second row)\", fontsize=16)\n",
    "fig.tight_layout()"
   ]
  },
  {
   "cell_type": "markdown",
   "id": "c79d6423",
   "metadata": {},
   "source": [
    "We can see that there are more higher rated dramas than lower rated one, but there are less high box office revenue dramas as high revenue one.\n",
    "\n",
    "Futhermore, we see there are more lower rated comedies but they usually have higher box office revenues.\n",
    "\n",
    "Now let's have a look at the difference in lead actors' attributes between high and low rating movies."
   ]
  },
  {
   "cell_type": "code",
   "execution_count": null,
   "id": "b67fbacd",
   "metadata": {},
   "outputs": [],
   "source": [
    "# Merge the movie data with the lead actors data\n",
    "merged = pd.merge(full_movie_data_preprocessed, lead_actors_data_on_subset_movie, left_on='freebase_movie_id', right_on='freebase_movie_id')\n",
    "\n",
    "# Split the movies by the median rating and median box office revenue\n",
    "median_rating = merged['averageRating'].median()\n",
    "median_box_office = merged['box_office_revenue'].median()\n",
    "\n",
    "# Add a column to the DataFrame to indicate if the movie has a high rating/box office revenue\n",
    "merged['high_rating'] = merged['averageRating'] > median_rating\n",
    "merged['high_box_office'] = merged['box_office_revenue'] > median_box_office\n",
    "\n",
    "fig, axes = plt.subplots(2, 3, figsize=(18, 10))\n",
    "\n",
    "histogram_actors(merged, hue='high_rating', axes=axes[0])\n",
    "histogram_actors(merged, hue='high_box_office', axes=axes[1])\n",
    "\n",
    "fig.suptitle(\"Comparison of movies with high/low ratings (first row) and high/low box office revenue (second row)\", fontsize=16)\n",
    "fig.tight_layout()"
   ]
  },
  {
   "cell_type": "markdown",
   "id": "344e01ac",
   "metadata": {},
   "source": [
    "Not much of a difference here, let's look at the categorical attributes."
   ]
  },
  {
   "cell_type": "code",
   "execution_count": null,
   "id": "11288003",
   "metadata": {},
   "outputs": [],
   "source": [
    "fig, axes = plt.subplots(2, 2, figsize=(12, 10))\n",
    "\n",
    "count_actors(merged, \"high_rating\", axes[0])\n",
    "count_actors(merged, \"high_box_office\", axes[1])\n",
    "\n",
    "fig.suptitle(\"Comparison of movies with high/low ratings (first row) and high/low box office revenue (second row)\", fontsize=16)\n",
    "fig.tight_layout()"
   ]
  },
  {
   "cell_type": "markdown",
   "id": "e19cf249",
   "metadata": {},
   "source": [
    "We can see that there are more men in higher rated/revenue movies as in lower rated/revenue movies.\n",
    "Whereas, it's the opposite for women.\n",
    "Let's verify this with statistical test!\n",
    "The null hypothesis is that the frequencies between high/low ratings (and revenues) are independent."
   ]
  },
  {
   "cell_type": "code",
   "execution_count": null,
   "id": "2ed9b93a",
   "metadata": {},
   "outputs": [],
   "source": [
    "high_rating = merged['high_rating']\n",
    "high_box_office = merged['high_box_office']\n",
    "\n",
    "gender = merged['actor_gender'].apply(lambda g: g == 'M')\n",
    "\n",
    "gender_rating_count = stats.contingency.crosstab(gender, high_rating)\n",
    "print(\"Count the number of women/men (rows) with high/low ratings (columns):\")\n",
    "print(gender_rating_count.count)\n",
    "print()\n",
    "\n",
    "gender_box_office_count = stats.contingency.crosstab(gender, high_box_office)\n",
    "print(\"Count the number of women/men (rows) with high/low box office revenue (columns):\")\n",
    "print(gender_box_office_count.count)"
   ]
  },
  {
   "cell_type": "code",
   "execution_count": null,
   "id": "82aa9d4a",
   "metadata": {},
   "outputs": [],
   "source": [
    "gender_rating_chi2 = stats.chi2_contingency(gender_rating_count)\n",
    "gender_box_office_chi2 = stats.chi2_contingency(gender_box_office_count)\n",
    "\n",
    "# Print the p-values\n",
    "print(f\"Chi-squared test p-value for gender and high rating correlation: {gender_rating_chi2[1]:.3f}\")\n",
    "print(f\"Chi-squared test p-value for gneder and high box office revenue correlation: {gender_box_office_chi2[1]:.3f}\")"
   ]
  },
  {
   "cell_type": "markdown",
   "id": "e7c07103",
   "metadata": {},
   "source": [
    "In both cases we can reject the null hypothesis by a significance level of 0.05.\n",
    "\n",
    "Futhermore, we can see that there are more African Americans in lower rated movies as in high rated movies.\n",
    "Whereas, it't the opposite for English People.\n",
    "\n",
    "Interestingly, we see that there are more African Americans in movies with high revenue as in lower box office revenue movies."
   ]
  },
  {
   "cell_type": "markdown",
   "id": "d0a8df07",
   "metadata": {},
   "source": [
    "# Conclusion\n",
    "\n",
    "Now that we made our deep analysis and we have complete preprocessed data, we can say some words of conclusion regarding the faisabilt of our research questions."
   ]
  }
 ],
 "metadata": {
  "kernelspec": {
   "display_name": "Python 3 (ipykernel)",
   "language": "python",
   "name": "python3"
  },
  "language_info": {
   "codemirror_mode": {
    "name": "ipython",
    "version": 3
   },
   "file_extension": ".py",
   "mimetype": "text/x-python",
   "name": "python",
   "nbconvert_exporter": "python",
   "pygments_lexer": "ipython3",
   "version": "3.13.0"
  }
 },
 "nbformat": 4,
 "nbformat_minor": 5
}
