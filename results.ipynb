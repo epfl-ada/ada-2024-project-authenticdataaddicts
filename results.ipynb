{
 "cells": [
  {
   "cell_type": "markdown",
   "id": "8ddaee4c",
   "metadata": {},
   "source": [
    "# CMU Movie data"
   ]
  },
  {
   "cell_type": "markdown",
   "id": "51d5340b",
   "metadata": {},
   "source": [
    "## Initial data inspection\n",
    "We will first try to provide a first generic inspection of the CMU movie dataset we decided to work on."
   ]
  },
  {
   "cell_type": "code",
   "execution_count": 105,
   "id": "2b837b81",
   "metadata": {},
   "outputs": [
    {
     "name": "stdout",
     "output_type": "stream",
     "text": [
      "The autoreload extension is already loaded. To reload it, use:\n",
      "  %reload_ext autoreload\n"
     ]
    }
   ],
   "source": [
    "import pandas as pd\n",
    "import numpy as np\n",
    "import re\n",
    "import json\n",
    "from src.utils.data_utils import *\n",
    "from datetime import datetime\n",
    "import matplotlib.pyplot as plt\n",
    "import seaborn as sns\n",
    "%load_ext autoreload\n",
    "%autoreload 2"
   ]
  },
  {
   "cell_type": "markdown",
   "id": "a7f50aa3",
   "metadata": {},
   "source": [
    "### Load Data\n",
    "The dataset is divided in 3 parts, the characters, the movies and the plots of the movies."
   ]
  },
  {
   "cell_type": "code",
   "execution_count": 106,
   "id": "a9ee11fa",
   "metadata": {},
   "outputs": [],
   "source": [
    "character_data, movie_data, plot_data = load_data()"
   ]
  },
  {
   "cell_type": "markdown",
   "id": "04cd05ad",
   "metadata": {},
   "source": [
    "### Characters dataset\n",
    "Let's first have a look to the character dataset."
   ]
  },
  {
   "cell_type": "code",
   "execution_count": 107,
   "id": "f3b789d5",
   "metadata": {},
   "outputs": [
    {
     "name": "stdout",
     "output_type": "stream",
     "text": [
      "There are 451432 characters with 14 features for each.\n"
     ]
    }
   ],
   "source": [
    "print(f'There are {character_data.shape[0]} characters with {character_data.shape[1]} features for each.')"
   ]
  },
  {
   "cell_type": "code",
   "execution_count": 108,
   "id": "c1d06e50",
   "metadata": {},
   "outputs": [
    {
     "data": {
      "text/html": [
       "<div>\n",
       "<style scoped>\n",
       "    .dataframe tbody tr th:only-of-type {\n",
       "        vertical-align: middle;\n",
       "    }\n",
       "\n",
       "    .dataframe tbody tr th {\n",
       "        vertical-align: top;\n",
       "    }\n",
       "\n",
       "    .dataframe thead th {\n",
       "        text-align: right;\n",
       "    }\n",
       "</style>\n",
       "<table border=\"1\" class=\"dataframe\">\n",
       "  <thead>\n",
       "    <tr style=\"text-align: right;\">\n",
       "      <th></th>\n",
       "      <th>wikipedia_movie_id</th>\n",
       "      <th>freebase_movie_id</th>\n",
       "      <th>movie_release_date</th>\n",
       "      <th>character_name</th>\n",
       "      <th>actor_dob</th>\n",
       "      <th>actor_gender</th>\n",
       "      <th>actor_height</th>\n",
       "      <th>actor_ethnicity</th>\n",
       "      <th>actor_name</th>\n",
       "      <th>actor_age_at_release</th>\n",
       "      <th>character_actor_map_id</th>\n",
       "      <th>character_id</th>\n",
       "      <th>actor_id</th>\n",
       "      <th>actor_ethnicity_label</th>\n",
       "    </tr>\n",
       "  </thead>\n",
       "  <tbody>\n",
       "    <tr>\n",
       "      <th>0</th>\n",
       "      <td>975900</td>\n",
       "      <td>/m/03vyhn</td>\n",
       "      <td>2001-08-24</td>\n",
       "      <td>Akooshay</td>\n",
       "      <td>1958-08-26</td>\n",
       "      <td>F</td>\n",
       "      <td>1.62</td>\n",
       "      <td>NaN</td>\n",
       "      <td>Wanda De Jesus</td>\n",
       "      <td>42.0</td>\n",
       "      <td>/m/0bgchxw</td>\n",
       "      <td>/m/0bgcj3x</td>\n",
       "      <td>/m/03wcfv7</td>\n",
       "      <td>NaN</td>\n",
       "    </tr>\n",
       "    <tr>\n",
       "      <th>1</th>\n",
       "      <td>975900</td>\n",
       "      <td>/m/03vyhn</td>\n",
       "      <td>2001-08-24</td>\n",
       "      <td>Lieutenant Melanie Ballard</td>\n",
       "      <td>1974-08-15</td>\n",
       "      <td>F</td>\n",
       "      <td>1.78</td>\n",
       "      <td>/m/044038p</td>\n",
       "      <td>Natasha Henstridge</td>\n",
       "      <td>27.0</td>\n",
       "      <td>/m/0jys3m</td>\n",
       "      <td>/m/0bgchn4</td>\n",
       "      <td>/m/0346l4</td>\n",
       "      <td>NaN</td>\n",
       "    </tr>\n",
       "  </tbody>\n",
       "</table>\n",
       "</div>"
      ],
      "text/plain": [
       "   wikipedia_movie_id freebase_movie_id movie_release_date  \\\n",
       "0              975900         /m/03vyhn         2001-08-24   \n",
       "1              975900         /m/03vyhn         2001-08-24   \n",
       "\n",
       "               character_name   actor_dob actor_gender  actor_height  \\\n",
       "0                    Akooshay  1958-08-26            F          1.62   \n",
       "1  Lieutenant Melanie Ballard  1974-08-15            F          1.78   \n",
       "\n",
       "  actor_ethnicity          actor_name  actor_age_at_release  \\\n",
       "0             NaN      Wanda De Jesus                  42.0   \n",
       "1      /m/044038p  Natasha Henstridge                  27.0   \n",
       "\n",
       "  character_actor_map_id character_id    actor_id actor_ethnicity_label  \n",
       "0             /m/0bgchxw   /m/0bgcj3x  /m/03wcfv7                   NaN  \n",
       "1              /m/0jys3m   /m/0bgchn4   /m/0346l4                   NaN  "
      ]
     },
     "execution_count": 108,
     "metadata": {},
     "output_type": "execute_result"
    }
   ],
   "source": [
    "character_data.head(2)"
   ]
  },
  {
   "cell_type": "markdown",
   "id": "d72305a3",
   "metadata": {},
   "source": [
    "We can note that the actor ethnicity need to be transform to readable value (for now, it looks to be freebase id)."
   ]
  },
  {
   "cell_type": "markdown",
   "id": "c9c4b58d",
   "metadata": {},
   "source": [
    "Let's now see if we have a lot of missing data. We will also check that we don't have duplicated rows."
   ]
  },
  {
   "cell_type": "code",
   "execution_count": 109,
   "id": "ec456244",
   "metadata": {},
   "outputs": [
    {
     "name": "stdout",
     "output_type": "stream",
     "text": [
      "Percentage of null rows in the characters dataset for each features:\n",
      "wikipedia_movie_id         0.0\n",
      "freebase_movie_id          0.0\n",
      "movie_release_date         2.2\n",
      "character_name            57.2\n",
      "actor_dob                 23.5\n",
      "actor_gender              10.1\n",
      "actor_height              65.6\n",
      "actor_ethnicity           76.3\n",
      "actor_name                 0.3\n",
      "actor_age_at_release      35.0\n",
      "character_actor_map_id     0.0\n",
      "character_id              57.2\n",
      "actor_id                   0.2\n",
      "actor_ethnicity_label     77.0\n",
      "dtype: float64\n"
     ]
    }
   ],
   "source": [
    "print(\"Percentage of null rows in the characters dataset for each features:\")\n",
    "print(character_data.isnull().mean().round(3)*100)"
   ]
  },
  {
   "cell_type": "code",
   "execution_count": 110,
   "id": "8ec919b6",
   "metadata": {},
   "outputs": [
    {
     "name": "stdout",
     "output_type": "stream",
     "text": [
      "Duplicated rows: 0\n"
     ]
    }
   ],
   "source": [
    "print(f\"Duplicated rows: {character_data.duplicated().sum()}\")"
   ]
  },
  {
   "cell_type": "markdown",
   "id": "4471ea5a",
   "metadata": {},
   "source": [
    "We see that we miss a lot of character names/ids, actor heights, actor ethnicity and actor age at release."
   ]
  },
  {
   "cell_type": "markdown",
   "id": "32b4be89",
   "metadata": {},
   "source": [
    "### Movies dataset\n",
    "Let's now have a look to the movies dataset."
   ]
  },
  {
   "cell_type": "code",
   "execution_count": 111,
   "id": "af339272",
   "metadata": {},
   "outputs": [
    {
     "name": "stdout",
     "output_type": "stream",
     "text": [
      "There are 81741 movies with 9 features for each.\n"
     ]
    }
   ],
   "source": [
    "print(f'There are {movie_data.shape[0]} movies with {movie_data.shape[1]} features for each.')"
   ]
  },
  {
   "cell_type": "code",
   "execution_count": 112,
   "id": "3d95221e",
   "metadata": {},
   "outputs": [
    {
     "data": {
      "text/html": [
       "<div>\n",
       "<style scoped>\n",
       "    .dataframe tbody tr th:only-of-type {\n",
       "        vertical-align: middle;\n",
       "    }\n",
       "\n",
       "    .dataframe tbody tr th {\n",
       "        vertical-align: top;\n",
       "    }\n",
       "\n",
       "    .dataframe thead th {\n",
       "        text-align: right;\n",
       "    }\n",
       "</style>\n",
       "<table border=\"1\" class=\"dataframe\">\n",
       "  <thead>\n",
       "    <tr style=\"text-align: right;\">\n",
       "      <th></th>\n",
       "      <th>wikipedia_movie_id</th>\n",
       "      <th>freebase_movie_id</th>\n",
       "      <th>movie_name</th>\n",
       "      <th>movie_release_date</th>\n",
       "      <th>box_office_revenue</th>\n",
       "      <th>runtime</th>\n",
       "      <th>languages</th>\n",
       "      <th>countries</th>\n",
       "      <th>genres</th>\n",
       "    </tr>\n",
       "  </thead>\n",
       "  <tbody>\n",
       "    <tr>\n",
       "      <th>0</th>\n",
       "      <td>975900</td>\n",
       "      <td>/m/03vyhn</td>\n",
       "      <td>Ghosts of Mars</td>\n",
       "      <td>2001-08-24</td>\n",
       "      <td>14010832.0</td>\n",
       "      <td>98.0</td>\n",
       "      <td>{\"/m/02h40lc\": \"English Language\"}</td>\n",
       "      <td>{\"/m/09c7w0\": \"United States of America\"}</td>\n",
       "      <td>{\"/m/01jfsb\": \"Thriller\", \"/m/06n90\": \"Science...</td>\n",
       "    </tr>\n",
       "    <tr>\n",
       "      <th>1</th>\n",
       "      <td>3196793</td>\n",
       "      <td>/m/08yl5d</td>\n",
       "      <td>Getting Away with Murder: The JonBenét Ramsey ...</td>\n",
       "      <td>2000-02-16</td>\n",
       "      <td>NaN</td>\n",
       "      <td>95.0</td>\n",
       "      <td>{\"/m/02h40lc\": \"English Language\"}</td>\n",
       "      <td>{\"/m/09c7w0\": \"United States of America\"}</td>\n",
       "      <td>{\"/m/02n4kr\": \"Mystery\", \"/m/03bxz7\": \"Biograp...</td>\n",
       "    </tr>\n",
       "  </tbody>\n",
       "</table>\n",
       "</div>"
      ],
      "text/plain": [
       "   wikipedia_movie_id freebase_movie_id  \\\n",
       "0              975900         /m/03vyhn   \n",
       "1             3196793         /m/08yl5d   \n",
       "\n",
       "                                          movie_name movie_release_date  \\\n",
       "0                                     Ghosts of Mars         2001-08-24   \n",
       "1  Getting Away with Murder: The JonBenét Ramsey ...         2000-02-16   \n",
       "\n",
       "   box_office_revenue  runtime                           languages  \\\n",
       "0          14010832.0     98.0  {\"/m/02h40lc\": \"English Language\"}   \n",
       "1                 NaN     95.0  {\"/m/02h40lc\": \"English Language\"}   \n",
       "\n",
       "                                   countries  \\\n",
       "0  {\"/m/09c7w0\": \"United States of America\"}   \n",
       "1  {\"/m/09c7w0\": \"United States of America\"}   \n",
       "\n",
       "                                              genres  \n",
       "0  {\"/m/01jfsb\": \"Thriller\", \"/m/06n90\": \"Science...  \n",
       "1  {\"/m/02n4kr\": \"Mystery\", \"/m/03bxz7\": \"Biograp...  "
      ]
     },
     "execution_count": 112,
     "metadata": {},
     "output_type": "execute_result"
    }
   ],
   "source": [
    "movie_data.head(2)"
   ]
  },
  {
   "cell_type": "markdown",
   "id": "5adcaf5d",
   "metadata": {},
   "source": [
    "We can note that the languages, countries and genres need to be preprocessed (for now dictionnary with id->readablename).\n",
    "We can also imagine to add a column movie_release_year."
   ]
  },
  {
   "cell_type": "markdown",
   "id": "c346a5ea",
   "metadata": {},
   "source": [
    "Let's now see if we have a lot of missing data. We will also verify that we dont' have duplicated rows."
   ]
  },
  {
   "cell_type": "code",
   "execution_count": 113,
   "id": "82985100",
   "metadata": {},
   "outputs": [
    {
     "name": "stdout",
     "output_type": "stream",
     "text": [
      "Percentage of null rows in the movies dataset for each features:\n",
      "wikipedia_movie_id     0.0\n",
      "freebase_movie_id      0.0\n",
      "movie_name             0.0\n",
      "movie_release_date     8.4\n",
      "box_office_revenue    89.7\n",
      "runtime               25.0\n",
      "languages              0.0\n",
      "countries              0.0\n",
      "genres                 0.0\n",
      "dtype: float64\n"
     ]
    }
   ],
   "source": [
    "print(\"Percentage of null rows in the movies dataset for each features:\")\n",
    "print(movie_data.isnull().mean().round(3)*100)"
   ]
  },
  {
   "cell_type": "code",
   "execution_count": 114,
   "id": "465283a2",
   "metadata": {},
   "outputs": [
    {
     "name": "stdout",
     "output_type": "stream",
     "text": [
      "Duplicated rows: 0\n"
     ]
    }
   ],
   "source": [
    "print(f\"Duplicated rows: {movie_data.duplicated().sum()}\")"
   ]
  },
  {
   "cell_type": "markdown",
   "id": "71496d7e",
   "metadata": {},
   "source": [
    "Ouch! We only have box office revenue for 10% of our movies, that's not good news since it's a key feature in our research problematic, we will need to fix this. Apart from this, we can also note that we are missing 25% of the runtime information. We could try to improve this. This also applies to the movie release data. For the languages, countries and genres, we note that they are dictionaries meaning that we first need to preprocess them a bit (for example transforming them to a list) to then be able to see the percentage of missing data. We will do it now:"
   ]
  },
  {
   "cell_type": "code",
   "execution_count": 115,
   "id": "e89dd1a5",
   "metadata": {},
   "outputs": [],
   "source": [
    "# Extract the readable values for 'languages', 'countries', and 'genres' columns. Also clean the language column.\n",
    "\n",
    "movie_data['languages'] = movie_data['languages'].apply(lambda x: extract_values(x, clean_func=clean_language))\n",
    "movie_data['countries'] = movie_data['countries'].apply(lambda x: extract_values(x)) \n",
    "movie_data['genres'] = movie_data['genres'].apply(lambda x: extract_values(x))  "
   ]
  },
  {
   "cell_type": "markdown",
   "id": "2f611732",
   "metadata": {},
   "source": [
    "We can now have a look to the missing data:"
   ]
  },
  {
   "cell_type": "code",
   "execution_count": 116,
   "id": "87d127cb",
   "metadata": {},
   "outputs": [
    {
     "name": "stdout",
     "output_type": "stream",
     "text": [
      "Percentage of None values in 'languages': 16.96%\n",
      "Percentage of None values in 'countries': 9.98%\n",
      "Percentage of None values in 'genres': 4.38%\n"
     ]
    }
   ],
   "source": [
    "# Calculate the number of None (NaN) values for each column\n",
    "none_languages = movie_data['languages'].isna().mean()\n",
    "none_countries = movie_data['countries'].isna().mean()\n",
    "none_genres = movie_data['genres'].isna().mean()\n",
    "\n",
    "# Print the counts of None (NaN) values\n",
    "print(f\"Percentage of None values in 'languages': {none_languages:.2%}\")\n",
    "print(f\"Percentage of None values in 'countries': {none_countries:.2%}\")\n",
    "print(f\"Percentage of None values in 'genres': {none_genres:.2%}\")"
   ]
  },
  {
   "cell_type": "markdown",
   "id": "99a6999f",
   "metadata": {},
   "source": [
    "This looks ok overall."
   ]
  },
  {
   "cell_type": "markdown",
   "id": "2f1ee937",
   "metadata": {},
   "source": [
    "### Plot summary dataset\n",
    "Let's now have a look to the plot summaries dataset."
   ]
  },
  {
   "cell_type": "code",
   "execution_count": 117,
   "id": "2e41cad2",
   "metadata": {},
   "outputs": [
    {
     "name": "stdout",
     "output_type": "stream",
     "text": [
      "There are 42303 plot summaries with 2 features for each.\n"
     ]
    }
   ],
   "source": [
    "print(f'There are {plot_data.shape[0]} plot summaries with {plot_data.shape[1]} features for each.')"
   ]
  },
  {
   "cell_type": "code",
   "execution_count": 118,
   "id": "14f05e09",
   "metadata": {},
   "outputs": [
    {
     "data": {
      "text/html": [
       "<div>\n",
       "<style scoped>\n",
       "    .dataframe tbody tr th:only-of-type {\n",
       "        vertical-align: middle;\n",
       "    }\n",
       "\n",
       "    .dataframe tbody tr th {\n",
       "        vertical-align: top;\n",
       "    }\n",
       "\n",
       "    .dataframe thead th {\n",
       "        text-align: right;\n",
       "    }\n",
       "</style>\n",
       "<table border=\"1\" class=\"dataframe\">\n",
       "  <thead>\n",
       "    <tr style=\"text-align: right;\">\n",
       "      <th></th>\n",
       "      <th>wikipedia_movie_id</th>\n",
       "      <th>summary</th>\n",
       "    </tr>\n",
       "  </thead>\n",
       "  <tbody>\n",
       "    <tr>\n",
       "      <th>0</th>\n",
       "      <td>23890098</td>\n",
       "      <td>Shlykov, a hard-working taxi driver and Lyosha...</td>\n",
       "    </tr>\n",
       "    <tr>\n",
       "      <th>1</th>\n",
       "      <td>31186339</td>\n",
       "      <td>The nation of Panem consists of a wealthy Capi...</td>\n",
       "    </tr>\n",
       "  </tbody>\n",
       "</table>\n",
       "</div>"
      ],
      "text/plain": [
       "   wikipedia_movie_id                                            summary\n",
       "0            23890098  Shlykov, a hard-working taxi driver and Lyosha...\n",
       "1            31186339  The nation of Panem consists of a wealthy Capi..."
      ]
     },
     "execution_count": 118,
     "metadata": {},
     "output_type": "execute_result"
    }
   ],
   "source": [
    "plot_data.head(2)"
   ]
  },
  {
   "cell_type": "markdown",
   "id": "9fec2b3e",
   "metadata": {},
   "source": [
    "Let's see if we have some rows that are invalid (no summary or wikipedia id)."
   ]
  },
  {
   "cell_type": "code",
   "execution_count": 119,
   "id": "ead77807",
   "metadata": {},
   "outputs": [
    {
     "name": "stdout",
     "output_type": "stream",
     "text": [
      "Pourcentage of null rows in the plot summaries dataset:\n",
      "wikipedia_movie_id    0.0\n",
      "summary               0.0\n",
      "dtype: float64\n"
     ]
    }
   ],
   "source": [
    "print(\"Pourcentage of null rows in the plot summaries dataset:\")\n",
    "print(plot_data.isnull().mean().round(3)*100)"
   ]
  },
  {
   "cell_type": "markdown",
   "id": "c353cf7c",
   "metadata": {},
   "source": [
    "Good new, we have nothing missing here :)"
   ]
  },
  {
   "cell_type": "markdown",
   "id": "e5a5a1f3",
   "metadata": {},
   "source": [
    "## Data completion + first preprocessing\n",
    "Before going deeper to the analysis, we want to already fix some problems we pointed out.\n",
    "\n",
    "Movies:\n",
    "- A lot of box office revenus missing\n",
    "- We can also imagine to add a column movie_release_year.\n",
    "\n",
    "Characters:\n",
    "- We see that we miss a lot of character names/ids, actor heights, actor ethnicity and actor age at release.\n",
    "- We first note that we need to preprocess the actor ethnicity that look to be a freebase id."
   ]
  },
  {
   "cell_type": "markdown",
   "id": "7db19e1f",
   "metadata": {},
   "source": [
    "### Movies problems\n",
    "\n",
    "Let's first to get more data on box office results to decrease the number of missing data we have for now. To do this, we will merge the current dataset with differents other datasets that contain box office results (and also runtime since we have 25% of missing). Let's first add the Wikidata dataset."
   ]
  },
  {
   "cell_type": "code",
   "execution_count": 120,
   "id": "a4e4e81f",
   "metadata": {},
   "outputs": [
    {
     "data": {
      "text/html": [
       "<div>\n",
       "<style scoped>\n",
       "    .dataframe tbody tr th:only-of-type {\n",
       "        vertical-align: middle;\n",
       "    }\n",
       "\n",
       "    .dataframe tbody tr th {\n",
       "        vertical-align: top;\n",
       "    }\n",
       "\n",
       "    .dataframe thead th {\n",
       "        text-align: right;\n",
       "    }\n",
       "</style>\n",
       "<table border=\"1\" class=\"dataframe\">\n",
       "  <thead>\n",
       "    <tr style=\"text-align: right;\">\n",
       "      <th></th>\n",
       "      <th>item</th>\n",
       "      <th>freebase_id</th>\n",
       "      <th>IMDb_ID</th>\n",
       "      <th>box_office_revenue</th>\n",
       "      <th>movie_name</th>\n",
       "    </tr>\n",
       "  </thead>\n",
       "  <tbody>\n",
       "    <tr>\n",
       "      <th>0</th>\n",
       "      <td>http://www.wikidata.org/entity/Q223139</td>\n",
       "      <td>/m/0jqd3</td>\n",
       "      <td>tt0053125</td>\n",
       "      <td>5740000.0</td>\n",
       "      <td>North by Northwest</td>\n",
       "    </tr>\n",
       "    <tr>\n",
       "      <th>1</th>\n",
       "      <td>http://www.wikidata.org/entity/Q223139</td>\n",
       "      <td>/m/0jqd3</td>\n",
       "      <td>tt0053125</td>\n",
       "      <td>9840000.0</td>\n",
       "      <td>North by Northwest</td>\n",
       "    </tr>\n",
       "  </tbody>\n",
       "</table>\n",
       "</div>"
      ],
      "text/plain": [
       "                                     item freebase_id    IMDb_ID  \\\n",
       "0  http://www.wikidata.org/entity/Q223139    /m/0jqd3  tt0053125   \n",
       "1  http://www.wikidata.org/entity/Q223139    /m/0jqd3  tt0053125   \n",
       "\n",
       "   box_office_revenue          movie_name  \n",
       "0           5740000.0  North by Northwest  \n",
       "1           9840000.0  North by Northwest  "
      ]
     },
     "execution_count": 120,
     "metadata": {},
     "output_type": "execute_result"
    }
   ],
   "source": [
    "# Import dataset from wikidata\n",
    "with open('data/wikidata.json', 'r') as f:\n",
    "    wikidata_json = json.load(f)\n",
    "wikidata = pd.DataFrame(wikidata_json)\n",
    "\n",
    "# We rename some columns for merging after\n",
    "wikidata['box_office_revenue'] = pd.to_numeric(wikidata['box_office'], errors='coerce') \n",
    "wikidata['movie_name'] = wikidata['title'].astype(str)\n",
    "wikidata.drop(columns=['box_office', 'title'], inplace=True)\n",
    "\n",
    "wikidata.head(2)"
   ]
  },
  {
   "cell_type": "markdown",
   "id": "4ebd1e62",
   "metadata": {},
   "source": [
    "Amazing, we have the freebase id and the box office, we just now need to merge them with the current dataframe.\n",
    "We will first merge on the freebase ID and then on the movie title."
   ]
  },
  {
   "cell_type": "code",
   "execution_count": 121,
   "id": "b17bcdfe",
   "metadata": {},
   "outputs": [],
   "source": [
    "movies_wikidata_merged, before_missing, after_missing = merge_for_completion(movie_data, wikidata, \"freebase_movie_id\", \"freebase_id\", \"box_office_revenue\", merge_strategy='mean')"
   ]
  },
  {
   "cell_type": "code",
   "execution_count": 122,
   "id": "b31cb8f6",
   "metadata": {},
   "outputs": [
    {
     "name": "stdout",
     "output_type": "stream",
     "text": [
      "Box office results missing percentage before merge (on freebase ID) with wikidata: 89.72%\n",
      "Box office results missing percentage after merge (on freebase ID) with wikidata: 87.23%\n"
     ]
    }
   ],
   "source": [
    "# Print the before and after missing percentages\n",
    "print(f\"Box office results missing percentage before merge (on freebase ID) with wikidata: {before_missing:.2%}\")\n",
    "print(f\"Box office results missing percentage after merge (on freebase ID) with wikidata: {after_missing:.2%}\")"
   ]
  },
  {
   "cell_type": "code",
   "execution_count": 123,
   "id": "c05483e7",
   "metadata": {},
   "outputs": [],
   "source": [
    "movies_wikidata_merged, before_missing, after_missing = merge_for_completion(movies_wikidata_merged, wikidata, \"movie_name\", \"movie_name\", \"box_office_revenue\", merge_strategy='prioritize_first')"
   ]
  },
  {
   "cell_type": "code",
   "execution_count": 124,
   "id": "fac46c85",
   "metadata": {},
   "outputs": [
    {
     "name": "stdout",
     "output_type": "stream",
     "text": [
      "Box office results missing percentage before merge (on title) with wikidata: 87.23%\n",
      "Box office results missing percentage after merge (on title) with wikidata: 84.00%\n"
     ]
    }
   ],
   "source": [
    "# Print the before and after missing percentages\n",
    "print(f\"Box office results missing percentage before merge (on title) with wikidata: {before_missing:.2%}\")\n",
    "print(f\"Box office results missing percentage after merge (on title) with wikidata: {after_missing:.2%}\")"
   ]
  },
  {
   "cell_type": "markdown",
   "id": "f526706b",
   "metadata": {},
   "source": [
    "It's not a big improvement but it's a good start. Let's now do the same with another dataset named 'The Movies Dataset' from https://www.kaggle.com/datasets/rounakbanik/the-movies-dataset?resource=download. Since we don't have the freebase ID, we will directly merge on the movie title. Note that we will also try to complete the missing data on runtime since this dataset has it."
   ]
  },
  {
   "cell_type": "code",
   "execution_count": 125,
   "id": "fa54e6fb",
   "metadata": {},
   "outputs": [
    {
     "name": "stderr",
     "output_type": "stream",
     "text": [
      "/var/folders/k8/vtt0k5m17z11cnzn65pw4_b80000gn/T/ipykernel_18724/2722644251.py:2: DtypeWarning: Columns (10) have mixed types. Specify dtype option on import or set low_memory=False.\n",
      "  movies_dataset = pd.read_csv('data/movies_metadata.csv')\n"
     ]
    },
    {
     "data": {
      "text/html": [
       "<div>\n",
       "<style scoped>\n",
       "    .dataframe tbody tr th:only-of-type {\n",
       "        vertical-align: middle;\n",
       "    }\n",
       "\n",
       "    .dataframe tbody tr th {\n",
       "        vertical-align: top;\n",
       "    }\n",
       "\n",
       "    .dataframe thead th {\n",
       "        text-align: right;\n",
       "    }\n",
       "</style>\n",
       "<table border=\"1\" class=\"dataframe\">\n",
       "  <thead>\n",
       "    <tr style=\"text-align: right;\">\n",
       "      <th></th>\n",
       "      <th>adult</th>\n",
       "      <th>belongs_to_collection</th>\n",
       "      <th>budget</th>\n",
       "      <th>genres</th>\n",
       "      <th>homepage</th>\n",
       "      <th>id</th>\n",
       "      <th>imdb_id</th>\n",
       "      <th>original_language</th>\n",
       "      <th>original_title</th>\n",
       "      <th>overview</th>\n",
       "      <th>...</th>\n",
       "      <th>revenue</th>\n",
       "      <th>runtime</th>\n",
       "      <th>spoken_languages</th>\n",
       "      <th>status</th>\n",
       "      <th>tagline</th>\n",
       "      <th>title</th>\n",
       "      <th>video</th>\n",
       "      <th>vote_average</th>\n",
       "      <th>vote_count</th>\n",
       "      <th>box_office_revenue</th>\n",
       "    </tr>\n",
       "  </thead>\n",
       "  <tbody>\n",
       "    <tr>\n",
       "      <th>0</th>\n",
       "      <td>False</td>\n",
       "      <td>{'id': 10194, 'name': 'Toy Story Collection', ...</td>\n",
       "      <td>30000000</td>\n",
       "      <td>[{'id': 16, 'name': 'Animation'}, {'id': 35, '...</td>\n",
       "      <td>http://toystory.disney.com/toy-story</td>\n",
       "      <td>862</td>\n",
       "      <td>tt0114709</td>\n",
       "      <td>en</td>\n",
       "      <td>Toy Story</td>\n",
       "      <td>Led by Woody, Andy's toys live happily in his ...</td>\n",
       "      <td>...</td>\n",
       "      <td>373554033.0</td>\n",
       "      <td>81.0</td>\n",
       "      <td>[{'iso_639_1': 'en', 'name': 'English'}]</td>\n",
       "      <td>Released</td>\n",
       "      <td>NaN</td>\n",
       "      <td>Toy Story</td>\n",
       "      <td>False</td>\n",
       "      <td>7.7</td>\n",
       "      <td>5415.0</td>\n",
       "      <td>373554033.0</td>\n",
       "    </tr>\n",
       "    <tr>\n",
       "      <th>1</th>\n",
       "      <td>False</td>\n",
       "      <td>NaN</td>\n",
       "      <td>65000000</td>\n",
       "      <td>[{'id': 12, 'name': 'Adventure'}, {'id': 14, '...</td>\n",
       "      <td>NaN</td>\n",
       "      <td>8844</td>\n",
       "      <td>tt0113497</td>\n",
       "      <td>en</td>\n",
       "      <td>Jumanji</td>\n",
       "      <td>When siblings Judy and Peter discover an encha...</td>\n",
       "      <td>...</td>\n",
       "      <td>262797249.0</td>\n",
       "      <td>104.0</td>\n",
       "      <td>[{'iso_639_1': 'en', 'name': 'English'}, {'iso...</td>\n",
       "      <td>Released</td>\n",
       "      <td>Roll the dice and unleash the excitement!</td>\n",
       "      <td>Jumanji</td>\n",
       "      <td>False</td>\n",
       "      <td>6.9</td>\n",
       "      <td>2413.0</td>\n",
       "      <td>262797249.0</td>\n",
       "    </tr>\n",
       "  </tbody>\n",
       "</table>\n",
       "<p>2 rows × 25 columns</p>\n",
       "</div>"
      ],
      "text/plain": [
       "   adult                              belongs_to_collection    budget  \\\n",
       "0  False  {'id': 10194, 'name': 'Toy Story Collection', ...  30000000   \n",
       "1  False                                                NaN  65000000   \n",
       "\n",
       "                                              genres  \\\n",
       "0  [{'id': 16, 'name': 'Animation'}, {'id': 35, '...   \n",
       "1  [{'id': 12, 'name': 'Adventure'}, {'id': 14, '...   \n",
       "\n",
       "                               homepage    id    imdb_id original_language  \\\n",
       "0  http://toystory.disney.com/toy-story   862  tt0114709                en   \n",
       "1                                   NaN  8844  tt0113497                en   \n",
       "\n",
       "  original_title                                           overview  ...  \\\n",
       "0      Toy Story  Led by Woody, Andy's toys live happily in his ...  ...   \n",
       "1        Jumanji  When siblings Judy and Peter discover an encha...  ...   \n",
       "\n",
       "       revenue runtime                                   spoken_languages  \\\n",
       "0  373554033.0    81.0           [{'iso_639_1': 'en', 'name': 'English'}]   \n",
       "1  262797249.0   104.0  [{'iso_639_1': 'en', 'name': 'English'}, {'iso...   \n",
       "\n",
       "     status                                    tagline      title  video  \\\n",
       "0  Released                                        NaN  Toy Story  False   \n",
       "1  Released  Roll the dice and unleash the excitement!    Jumanji  False   \n",
       "\n",
       "  vote_average vote_count box_office_revenue  \n",
       "0          7.7     5415.0        373554033.0  \n",
       "1          6.9     2413.0        262797249.0  \n",
       "\n",
       "[2 rows x 25 columns]"
      ]
     },
     "execution_count": 125,
     "metadata": {},
     "output_type": "execute_result"
    }
   ],
   "source": [
    "# Load the new dataset (and rename some columns)\n",
    "movies_dataset = pd.read_csv('data/movies_metadata.csv')\n",
    "movies_dataset['box_office_revenue'] = pd.to_numeric(movies_dataset['revenue'], errors='coerce') \n",
    "movies_dataset.head(2)"
   ]
  },
  {
   "cell_type": "code",
   "execution_count": 126,
   "id": "04d8ab66",
   "metadata": {},
   "outputs": [],
   "source": [
    "movies_wikidata_merged, before_missing, after_missing = merge_for_completion(movies_wikidata_merged, movies_dataset, \"movie_name\", \"original_title\", \"box_office_revenue\", merge_strategy='prioritize_first')"
   ]
  },
  {
   "cell_type": "code",
   "execution_count": 127,
   "id": "4e1919dd",
   "metadata": {},
   "outputs": [
    {
     "name": "stdout",
     "output_type": "stream",
     "text": [
      "Box office results missing percentage before merge (on title) with The Movies Dataset: 84.00%\n",
      "Box office results missing percentage after merge (on title) with The Movies Dataset: 60.32%\n"
     ]
    }
   ],
   "source": [
    "# Print the before and after missing percentages\n",
    "print(f\"Box office results missing percentage before merge (on title) with The Movies Dataset: {before_missing:.2%}\")\n",
    "print(f\"Box office results missing percentage after merge (on title) with The Movies Dataset: {after_missing:.2%}\")"
   ]
  },
  {
   "cell_type": "markdown",
   "id": "1e7011b5",
   "metadata": {},
   "source": [
    "Good improvement! Let's do the same for the runtime:"
   ]
  },
  {
   "cell_type": "code",
   "execution_count": 128,
   "id": "c1f19049",
   "metadata": {},
   "outputs": [],
   "source": [
    "movies_wikidata_merged, before_missing, after_missing = merge_for_completion(movies_wikidata_merged, movies_dataset, \"movie_name\", \"original_title\", \"runtime\", merge_strategy='prioritize_first')"
   ]
  },
  {
   "cell_type": "code",
   "execution_count": 129,
   "id": "9bab2e1a",
   "metadata": {},
   "outputs": [
    {
     "name": "stdout",
     "output_type": "stream",
     "text": [
      "Runtime results missing percentage before merge (on title) with The Movies Dataset: 23.19%\n",
      "Runtime results missing percentage after merge (on title) with The Movies Dataset: 16.16%\n"
     ]
    }
   ],
   "source": [
    "# Print the before and after missing percentages\n",
    "print(f\"Runtime results missing percentage before merge (on title) with The Movies Dataset: {before_missing:.2%}\")\n",
    "print(f\"Runtime results missing percentage after merge (on title) with The Movies Dataset: {after_missing:.2%}\")"
   ]
  },
  {
   "cell_type": "markdown",
   "id": "7a65eaf2",
   "metadata": {},
   "source": [
    "Small improvement but we take it. Let's try to use another dataset to complete..."
   ]
  },
  {
   "cell_type": "markdown",
   "id": "66574c84",
   "metadata": {},
   "source": [
    "Lets try a new dataset that contains more revenue data. This data set contains information about 10,000 movies collected from The Movie Database (TMDb), including user imdb_ratings and revenue. https://d17h27t6h515a5.cloudfront.net/topher/2017/October/59dd1c4c_tmdb-movies/tmdb-movies.csv. As above we rename the revenue column."
   ]
  },
  {
   "cell_type": "code",
   "execution_count": 130,
   "id": "0778ef6b",
   "metadata": {},
   "outputs": [
    {
     "data": {
      "text/html": [
       "<div>\n",
       "<style scoped>\n",
       "    .dataframe tbody tr th:only-of-type {\n",
       "        vertical-align: middle;\n",
       "    }\n",
       "\n",
       "    .dataframe tbody tr th {\n",
       "        vertical-align: top;\n",
       "    }\n",
       "\n",
       "    .dataframe thead th {\n",
       "        text-align: right;\n",
       "    }\n",
       "</style>\n",
       "<table border=\"1\" class=\"dataframe\">\n",
       "  <thead>\n",
       "    <tr style=\"text-align: right;\">\n",
       "      <th></th>\n",
       "      <th>id</th>\n",
       "      <th>imdb_id</th>\n",
       "      <th>popularity</th>\n",
       "      <th>budget</th>\n",
       "      <th>revenue</th>\n",
       "      <th>original_title</th>\n",
       "      <th>cast</th>\n",
       "      <th>homepage</th>\n",
       "      <th>director</th>\n",
       "      <th>tagline</th>\n",
       "      <th>...</th>\n",
       "      <th>runtime</th>\n",
       "      <th>genres</th>\n",
       "      <th>production_companies</th>\n",
       "      <th>release_date</th>\n",
       "      <th>vote_count</th>\n",
       "      <th>vote_average</th>\n",
       "      <th>release_year</th>\n",
       "      <th>budget_adj</th>\n",
       "      <th>revenue_adj</th>\n",
       "      <th>box_office_revenue</th>\n",
       "    </tr>\n",
       "  </thead>\n",
       "  <tbody>\n",
       "    <tr>\n",
       "      <th>9147</th>\n",
       "      <td>17127</td>\n",
       "      <td>tt0120772</td>\n",
       "      <td>0.183580</td>\n",
       "      <td>15000000</td>\n",
       "      <td>46905889</td>\n",
       "      <td>The Object of My Affection</td>\n",
       "      <td>Jennifer Aniston|Paul Rudd|Hayden Panettiere|A...</td>\n",
       "      <td>NaN</td>\n",
       "      <td>Nicholas Hytner</td>\n",
       "      <td>Sometimes The Most Desirable Relationship Is T...</td>\n",
       "      <td>...</td>\n",
       "      <td>111</td>\n",
       "      <td>Comedy|Drama|Romance</td>\n",
       "      <td>20th Century Fox</td>\n",
       "      <td>4/17/98</td>\n",
       "      <td>38</td>\n",
       "      <td>5.1</td>\n",
       "      <td>1998</td>\n",
       "      <td>2.006543e+07</td>\n",
       "      <td>6.274580e+07</td>\n",
       "      <td>46905889</td>\n",
       "    </tr>\n",
       "    <tr>\n",
       "      <th>8233</th>\n",
       "      <td>31611</td>\n",
       "      <td>tt0114928</td>\n",
       "      <td>0.118215</td>\n",
       "      <td>8000000</td>\n",
       "      <td>0</td>\n",
       "      <td>White Man's Burden</td>\n",
       "      <td>John Travolta|Harry Belafonte|Kelly Lynch|Marg...</td>\n",
       "      <td>NaN</td>\n",
       "      <td>Desmond Nakano</td>\n",
       "      <td>Reality Just Switched Sides</td>\n",
       "      <td>...</td>\n",
       "      <td>89</td>\n",
       "      <td>Drama</td>\n",
       "      <td>HBO|A BandApart|Rysher Entertainment</td>\n",
       "      <td>12/1/95</td>\n",
       "      <td>14</td>\n",
       "      <td>5.0</td>\n",
       "      <td>1995</td>\n",
       "      <td>1.144773e+07</td>\n",
       "      <td>0.000000e+00</td>\n",
       "      <td>0</td>\n",
       "    </tr>\n",
       "    <tr>\n",
       "      <th>10840</th>\n",
       "      <td>34388</td>\n",
       "      <td>tt0060437</td>\n",
       "      <td>0.102530</td>\n",
       "      <td>0</td>\n",
       "      <td>0</td>\n",
       "      <td>Funeral in Berlin</td>\n",
       "      <td>Michael Caine|Paul Hubschmid|Oskar Homolka|Eva...</td>\n",
       "      <td>NaN</td>\n",
       "      <td>Guy Hamilton</td>\n",
       "      <td>NaN</td>\n",
       "      <td>...</td>\n",
       "      <td>102</td>\n",
       "      <td>Thriller</td>\n",
       "      <td>Lowndes Productions Limited</td>\n",
       "      <td>12/22/66</td>\n",
       "      <td>13</td>\n",
       "      <td>5.7</td>\n",
       "      <td>1966</td>\n",
       "      <td>0.000000e+00</td>\n",
       "      <td>0.000000e+00</td>\n",
       "      <td>0</td>\n",
       "    </tr>\n",
       "    <tr>\n",
       "      <th>4879</th>\n",
       "      <td>191489</td>\n",
       "      <td>tt2290153</td>\n",
       "      <td>0.083455</td>\n",
       "      <td>0</td>\n",
       "      <td>0</td>\n",
       "      <td>Bill Burr: You People Are All The Same</td>\n",
       "      <td>Bill Burr</td>\n",
       "      <td>NaN</td>\n",
       "      <td>Jay Karas</td>\n",
       "      <td>NaN</td>\n",
       "      <td>...</td>\n",
       "      <td>68</td>\n",
       "      <td>Comedy</td>\n",
       "      <td>NaN</td>\n",
       "      <td>8/16/12</td>\n",
       "      <td>11</td>\n",
       "      <td>8.1</td>\n",
       "      <td>2012</td>\n",
       "      <td>0.000000e+00</td>\n",
       "      <td>0.000000e+00</td>\n",
       "      <td>0</td>\n",
       "    </tr>\n",
       "    <tr>\n",
       "      <th>7401</th>\n",
       "      <td>1271</td>\n",
       "      <td>tt0416449</td>\n",
       "      <td>2.191408</td>\n",
       "      <td>65000000</td>\n",
       "      <td>422610419</td>\n",
       "      <td>300</td>\n",
       "      <td>Gerard Butler|Lena Headey|Dominic West|David W...</td>\n",
       "      <td>http://300themovie.warnerbros.com</td>\n",
       "      <td>Zack Snyder</td>\n",
       "      <td>Spartans, prepare for glory!</td>\n",
       "      <td>...</td>\n",
       "      <td>117</td>\n",
       "      <td>Action|Adventure|War</td>\n",
       "      <td>Virtual Studios|Legendary Pictures|Hollywood G...</td>\n",
       "      <td>3/7/07</td>\n",
       "      <td>3428</td>\n",
       "      <td>7.0</td>\n",
       "      <td>2007</td>\n",
       "      <td>6.835846e+07</td>\n",
       "      <td>4.444461e+08</td>\n",
       "      <td>422610419</td>\n",
       "    </tr>\n",
       "  </tbody>\n",
       "</table>\n",
       "<p>5 rows × 22 columns</p>\n",
       "</div>"
      ],
      "text/plain": [
       "           id    imdb_id  popularity    budget    revenue  \\\n",
       "9147    17127  tt0120772    0.183580  15000000   46905889   \n",
       "8233    31611  tt0114928    0.118215   8000000          0   \n",
       "10840   34388  tt0060437    0.102530         0          0   \n",
       "4879   191489  tt2290153    0.083455         0          0   \n",
       "7401     1271  tt0416449    2.191408  65000000  422610419   \n",
       "\n",
       "                               original_title  \\\n",
       "9147               The Object of My Affection   \n",
       "8233                       White Man's Burden   \n",
       "10840                       Funeral in Berlin   \n",
       "4879   Bill Burr: You People Are All The Same   \n",
       "7401                                      300   \n",
       "\n",
       "                                                    cast  \\\n",
       "9147   Jennifer Aniston|Paul Rudd|Hayden Panettiere|A...   \n",
       "8233   John Travolta|Harry Belafonte|Kelly Lynch|Marg...   \n",
       "10840  Michael Caine|Paul Hubschmid|Oskar Homolka|Eva...   \n",
       "4879                                           Bill Burr   \n",
       "7401   Gerard Butler|Lena Headey|Dominic West|David W...   \n",
       "\n",
       "                                homepage         director  \\\n",
       "9147                                 NaN  Nicholas Hytner   \n",
       "8233                                 NaN   Desmond Nakano   \n",
       "10840                                NaN     Guy Hamilton   \n",
       "4879                                 NaN        Jay Karas   \n",
       "7401   http://300themovie.warnerbros.com      Zack Snyder   \n",
       "\n",
       "                                                 tagline  ... runtime  \\\n",
       "9147   Sometimes The Most Desirable Relationship Is T...  ...     111   \n",
       "8233                         Reality Just Switched Sides  ...      89   \n",
       "10840                                                NaN  ...     102   \n",
       "4879                                                 NaN  ...      68   \n",
       "7401                        Spartans, prepare for glory!  ...     117   \n",
       "\n",
       "                     genres  \\\n",
       "9147   Comedy|Drama|Romance   \n",
       "8233                  Drama   \n",
       "10840              Thriller   \n",
       "4879                 Comedy   \n",
       "7401   Action|Adventure|War   \n",
       "\n",
       "                                    production_companies release_date  \\\n",
       "9147                                    20th Century Fox      4/17/98   \n",
       "8233                HBO|A BandApart|Rysher Entertainment      12/1/95   \n",
       "10840                        Lowndes Productions Limited     12/22/66   \n",
       "4879                                                 NaN      8/16/12   \n",
       "7401   Virtual Studios|Legendary Pictures|Hollywood G...       3/7/07   \n",
       "\n",
       "      vote_count vote_average  release_year    budget_adj   revenue_adj  \\\n",
       "9147          38          5.1          1998  2.006543e+07  6.274580e+07   \n",
       "8233          14          5.0          1995  1.144773e+07  0.000000e+00   \n",
       "10840         13          5.7          1966  0.000000e+00  0.000000e+00   \n",
       "4879          11          8.1          2012  0.000000e+00  0.000000e+00   \n",
       "7401        3428          7.0          2007  6.835846e+07  4.444461e+08   \n",
       "\n",
       "       box_office_revenue  \n",
       "9147             46905889  \n",
       "8233                    0  \n",
       "10840                   0  \n",
       "4879                    0  \n",
       "7401            422610419  \n",
       "\n",
       "[5 rows x 22 columns]"
      ]
     },
     "execution_count": 130,
     "metadata": {},
     "output_type": "execute_result"
    }
   ],
   "source": [
    "# Load the new dataset (and rename some columns)\n",
    "tmdb_movies_dataset = pd.read_csv('data/tmdb_movies.csv')\n",
    "tmdb_movies_dataset['box_office_revenue'] = pd.to_numeric(tmdb_movies_dataset['revenue'], errors='coerce') \n",
    "tmdb_movies_dataset.sample(5)"
   ]
  },
  {
   "cell_type": "code",
   "execution_count": 131,
   "id": "973b90db",
   "metadata": {},
   "outputs": [],
   "source": [
    "movies_wikidata_merged, before_missing, after_missing = merge_for_completion(movies_wikidata_merged, tmdb_movies_dataset, \"movie_name\", \"original_title\", \"box_office_revenue\", merge_strategy='prioritize_first')"
   ]
  },
  {
   "cell_type": "code",
   "execution_count": 132,
   "id": "6aed1570",
   "metadata": {},
   "outputs": [
    {
     "name": "stdout",
     "output_type": "stream",
     "text": [
      "Box office results missing percentage before merge (on title) with The Movies Dataset: 47.98%\n",
      "Box office results missing percentage after merge (on title) with The Movies Dataset: 39.75%\n"
     ]
    }
   ],
   "source": [
    "# Print the before and after missing percentages\n",
    "print(f\"Box office results missing percentage before merge (on title) with The Movies Dataset: {before_missing:.2%}\")\n",
    "print(f\"Box office results missing percentage after merge (on title) with The Movies Dataset: {after_missing:.2%}\")"
   ]
  },
  {
   "cell_type": "markdown",
   "id": "c6bfd011",
   "metadata": {},
   "source": [
    "Now we want to merge with the IMDb datasets (https://developer.imdb.com/non-commercial-datasets/) in order to obtain ratings and lead actors. We set consider an actor a lead actor if their ordering is 1 or 2."
   ]
  },
  {
   "cell_type": "code",
   "execution_count": 133,
   "id": "a5df00d9",
   "metadata": {},
   "outputs": [
    {
     "data": {
      "text/html": [
       "<div>\n",
       "<style scoped>\n",
       "    .dataframe tbody tr th:only-of-type {\n",
       "        vertical-align: middle;\n",
       "    }\n",
       "\n",
       "    .dataframe tbody tr th {\n",
       "        vertical-align: top;\n",
       "    }\n",
       "\n",
       "    .dataframe thead th {\n",
       "        text-align: right;\n",
       "    }\n",
       "</style>\n",
       "<table border=\"1\" class=\"dataframe\">\n",
       "  <thead>\n",
       "    <tr style=\"text-align: right;\">\n",
       "      <th></th>\n",
       "      <th>freebase_movie_id</th>\n",
       "      <th>IMDb_ID</th>\n",
       "      <th>wikipedia_movie_id</th>\n",
       "      <th>movie_name</th>\n",
       "      <th>movie_release_date</th>\n",
       "      <th>box_office_revenue</th>\n",
       "      <th>runtime</th>\n",
       "      <th>languages</th>\n",
       "      <th>countries</th>\n",
       "      <th>genres</th>\n",
       "      <th>freebase_id</th>\n",
       "      <th>original_title</th>\n",
       "      <th>original_title_from_second</th>\n",
       "      <th>original_title_from_second</th>\n",
       "    </tr>\n",
       "  </thead>\n",
       "  <tbody>\n",
       "    <tr>\n",
       "      <th>21516</th>\n",
       "      <td>/m/04jpg2p</td>\n",
       "      <td>tt1014759</td>\n",
       "      <td>14482638</td>\n",
       "      <td>Alice in Wonderland</td>\n",
       "      <td>2010-03-05</td>\n",
       "      <td>679245507.0</td>\n",
       "      <td>108.0</td>\n",
       "      <td>[English]</td>\n",
       "      <td>[United States of America, United Kingdom]</td>\n",
       "      <td>[Computer Animation, Family Film, Fantasy, Adv...</td>\n",
       "      <td>/m/04jpg2p</td>\n",
       "      <td>Alice in Wonderland</td>\n",
       "      <td>Alice in Wonderland</td>\n",
       "      <td>Alice in Wonderland</td>\n",
       "    </tr>\n",
       "    <tr>\n",
       "      <th>3605</th>\n",
       "      <td>/m/044_wc</td>\n",
       "      <td>tt0013556</td>\n",
       "      <td>1089042</td>\n",
       "      <td>Robin Hood</td>\n",
       "      <td>1922-10-18</td>\n",
       "      <td>2500000.0</td>\n",
       "      <td>127.0</td>\n",
       "      <td>[Silent film, English]</td>\n",
       "      <td>[United States of America]</td>\n",
       "      <td>[Swashbuckler films, Silent film, Indie, Black...</td>\n",
       "      <td>/m/044_wc</td>\n",
       "      <td>Robin Hood</td>\n",
       "      <td>Robin Hood</td>\n",
       "      <td>Robin Hood</td>\n",
       "    </tr>\n",
       "  </tbody>\n",
       "</table>\n",
       "</div>"
      ],
      "text/plain": [
       "      freebase_movie_id    IMDb_ID  wikipedia_movie_id           movie_name  \\\n",
       "21516        /m/04jpg2p  tt1014759            14482638  Alice in Wonderland   \n",
       "3605          /m/044_wc  tt0013556             1089042           Robin Hood   \n",
       "\n",
       "      movie_release_date  box_office_revenue  runtime               languages  \\\n",
       "21516         2010-03-05         679245507.0    108.0               [English]   \n",
       "3605          1922-10-18           2500000.0    127.0  [Silent film, English]   \n",
       "\n",
       "                                        countries  \\\n",
       "21516  [United States of America, United Kingdom]   \n",
       "3605                   [United States of America]   \n",
       "\n",
       "                                                  genres freebase_id  \\\n",
       "21516  [Computer Animation, Family Film, Fantasy, Adv...  /m/04jpg2p   \n",
       "3605   [Swashbuckler films, Silent film, Indie, Black...   /m/044_wc   \n",
       "\n",
       "            original_title original_title_from_second  \\\n",
       "21516  Alice in Wonderland        Alice in Wonderland   \n",
       "3605            Robin Hood                 Robin Hood   \n",
       "\n",
       "      original_title_from_second  \n",
       "21516        Alice in Wonderland  \n",
       "3605                  Robin Hood  "
      ]
     },
     "execution_count": 133,
     "metadata": {},
     "output_type": "execute_result"
    }
   ],
   "source": [
    "wikidata_merge = wikidata[['freebase_id', 'IMDb_ID']]\n",
    "wikidata_merge = wikidata_merge.rename(columns={'freebase_id': 'freebase_movie_id'})\n",
    "\n",
    "movies_wikidata_merged_imdbid = pd.merge(wikidata_merge, movies_wikidata_merged, on='freebase_movie_id', how='inner')\n",
    "movies_wikidata_merged_imdbid.sample(2)"
   ]
  },
  {
   "cell_type": "code",
   "execution_count": 134,
   "id": "3c549c83",
   "metadata": {},
   "outputs": [],
   "source": [
    "imdb_ratings = pd.read_csv('data/title.ratings.tsv', sep='\\t')\n",
    "imdb_principals = pd.read_csv('data/title.principals.tsv', sep='\\t')\n",
    "imdb_names = pd.read_csv('data/name.basics.tsv', sep='\\t')\n",
    "\n"
   ]
  },
  {
   "cell_type": "code",
   "execution_count": 135,
   "id": "6328b9fb",
   "metadata": {},
   "outputs": [
    {
     "data": {
      "text/html": [
       "<div>\n",
       "<style scoped>\n",
       "    .dataframe tbody tr th:only-of-type {\n",
       "        vertical-align: middle;\n",
       "    }\n",
       "\n",
       "    .dataframe tbody tr th {\n",
       "        vertical-align: top;\n",
       "    }\n",
       "\n",
       "    .dataframe thead th {\n",
       "        text-align: right;\n",
       "    }\n",
       "</style>\n",
       "<table border=\"1\" class=\"dataframe\">\n",
       "  <thead>\n",
       "    <tr style=\"text-align: right;\">\n",
       "      <th></th>\n",
       "      <th>freebase_movie_id</th>\n",
       "      <th>IMDb_ID</th>\n",
       "      <th>wikipedia_movie_id</th>\n",
       "      <th>movie_name</th>\n",
       "      <th>movie_release_date</th>\n",
       "      <th>box_office_revenue</th>\n",
       "      <th>runtime</th>\n",
       "      <th>languages</th>\n",
       "      <th>countries</th>\n",
       "      <th>genres</th>\n",
       "      <th>freebase_id</th>\n",
       "      <th>original_title</th>\n",
       "      <th>original_title_from_second</th>\n",
       "      <th>original_title_from_second</th>\n",
       "      <th>averageRating</th>\n",
       "      <th>numVotes</th>\n",
       "      <th>lead_actor_1</th>\n",
       "      <th>lead_actor_2</th>\n",
       "    </tr>\n",
       "  </thead>\n",
       "  <tbody>\n",
       "    <tr>\n",
       "      <th>0</th>\n",
       "      <td>/m/0jqd3</td>\n",
       "      <td>tt0053125</td>\n",
       "      <td>73412</td>\n",
       "      <td>North by Northwest</td>\n",
       "      <td>1959-07-17</td>\n",
       "      <td>9507500.0</td>\n",
       "      <td>131.0</td>\n",
       "      <td>[English]</td>\n",
       "      <td>[United States of America]</td>\n",
       "      <td>[Thriller, Spy, Adventure, Chase Movie, Action...</td>\n",
       "      <td>/m/0jqd3</td>\n",
       "      <td>North by Northwest</td>\n",
       "      <td>North by Northwest</td>\n",
       "      <td>NaN</td>\n",
       "      <td>8.3</td>\n",
       "      <td>352285</td>\n",
       "      <td>Cary Grant</td>\n",
       "      <td>Eva Marie Saint</td>\n",
       "    </tr>\n",
       "    <tr>\n",
       "      <th>1</th>\n",
       "      <td>/m/0jqd3</td>\n",
       "      <td>tt0053125</td>\n",
       "      <td>73412</td>\n",
       "      <td>North by Northwest</td>\n",
       "      <td>1959-07-17</td>\n",
       "      <td>9507500.0</td>\n",
       "      <td>131.0</td>\n",
       "      <td>[English]</td>\n",
       "      <td>[United States of America]</td>\n",
       "      <td>[Thriller, Spy, Adventure, Chase Movie, Action...</td>\n",
       "      <td>/m/0jqd3</td>\n",
       "      <td>North by Northwest</td>\n",
       "      <td>North by Northwest</td>\n",
       "      <td>NaN</td>\n",
       "      <td>8.3</td>\n",
       "      <td>352285</td>\n",
       "      <td>Cary Grant</td>\n",
       "      <td>Eva Marie Saint</td>\n",
       "    </tr>\n",
       "  </tbody>\n",
       "</table>\n",
       "</div>"
      ],
      "text/plain": [
       "  freebase_movie_id    IMDb_ID  wikipedia_movie_id          movie_name  \\\n",
       "0          /m/0jqd3  tt0053125               73412  North by Northwest   \n",
       "1          /m/0jqd3  tt0053125               73412  North by Northwest   \n",
       "\n",
       "  movie_release_date  box_office_revenue  runtime  languages  \\\n",
       "0         1959-07-17           9507500.0    131.0  [English]   \n",
       "1         1959-07-17           9507500.0    131.0  [English]   \n",
       "\n",
       "                    countries  \\\n",
       "0  [United States of America]   \n",
       "1  [United States of America]   \n",
       "\n",
       "                                              genres freebase_id  \\\n",
       "0  [Thriller, Spy, Adventure, Chase Movie, Action...    /m/0jqd3   \n",
       "1  [Thriller, Spy, Adventure, Chase Movie, Action...    /m/0jqd3   \n",
       "\n",
       "       original_title original_title_from_second original_title_from_second  \\\n",
       "0  North by Northwest         North by Northwest                        NaN   \n",
       "1  North by Northwest         North by Northwest                        NaN   \n",
       "\n",
       "   averageRating  numVotes lead_actor_1     lead_actor_2  \n",
       "0            8.3    352285   Cary Grant  Eva Marie Saint  \n",
       "1            8.3    352285   Cary Grant  Eva Marie Saint  "
      ]
     },
     "execution_count": 135,
     "metadata": {},
     "output_type": "execute_result"
    }
   ],
   "source": [
    "imdb_ratings = imdb_ratings.rename(columns={'tconst': 'IMDb_ID'})\n",
    "imdb_ratings = imdb_ratings[['IMDb_ID', 'averageRating', 'numVotes']]  \n",
    "\n",
    "lead_actors = imdb_principals[(imdb_principals['category'].isin(['actor', 'actress'])) & (imdb_principals['ordering'].isin([1, 2]))]\n",
    "lead_actors = lead_actors.rename(columns={'tconst': 'IMDb_ID'})\n",
    "lead_actors = lead_actors[['IMDb_ID', 'nconst', 'ordering']]\n",
    "\n",
    "lead_actors = lead_actors.merge(imdb_names[['nconst', 'primaryName']], on='nconst', how='left')\n",
    "lead_actors = lead_actors.pivot(index='IMDb_ID', columns='ordering', values='primaryName').reset_index()\n",
    "lead_actors.columns = ['IMDb_ID', 'lead_actor_1', 'lead_actor_2']\n",
    "\n",
    "imdb_merged_movie_data = pd.merge(movies_wikidata_merged_imdbid, imdb_ratings, on='IMDb_ID', how='left')\n",
    "imdb_merged_movie_data.head(2)\n",
    "\n",
    "merged_movie_data = imdb_merged_movie_data.merge(lead_actors, left_on='IMDb_ID', right_on='IMDb_ID', how='left')\n",
    "merged_movie_data.head(2)\n",
    "\n",
    "\n"
   ]
  },
  {
   "cell_type": "markdown",
   "id": "b6db28a2",
   "metadata": {},
   "source": [
    "## Cleaning and removing outliers\n",
    "\n",
    "Before analyzing the data any further, let's remove outliers."
   ]
  },
  {
   "cell_type": "markdown",
   "id": "e9903b82",
   "metadata": {},
   "source": [
    "### Character dataset"
   ]
  },
  {
   "cell_type": "code",
   "execution_count": 136,
   "id": "4960c141",
   "metadata": {},
   "outputs": [
    {
     "name": "stdout",
     "output_type": "stream",
     "text": [
      "Removing NaN reduced the dataset by: 65.64%\n"
     ]
    }
   ],
   "source": [
    "# Keep only non NaN values\n",
    "not_na_height = character_data[\"actor_height\"].notna()\n",
    "character_data_cleaned = character_data[not_na_height]\n",
    "\n",
    "reduction = 1 - character_data_cleaned.shape[0] / character_data.shape[0]\n",
    "print(f\"Removing NaN reduced the dataset by: {reduction:.2%}\")\n"
   ]
  },
  {
   "cell_type": "code",
   "execution_count": 137,
   "id": "a5fceddf",
   "metadata": {},
   "outputs": [
    {
     "name": "stdout",
     "output_type": "stream",
     "text": [
      "Removing invalid actor heights reduced that dataset by 0.71%.\n"
     ]
    }
   ],
   "source": [
    "# Keep only valid heights (between 1.5 and 2.8 meters)\n",
    "character_data_valid_heights = character_data_cleaned.query(\"actor_height > 1.5 and actor_height < 2.8\")\n",
    "reduction = (len(character_data_cleaned) - len(character_data_valid_heights)) / len(character_data_cleaned)\n",
    "\n",
    "print(f\"Removing invalid actor heights reduced that dataset by {reduction:.2%}.\")"
   ]
  },
  {
   "cell_type": "code",
   "execution_count": 138,
   "id": "d2568b0d",
   "metadata": {},
   "outputs": [
    {
     "name": "stdout",
     "output_type": "stream",
     "text": [
      "Removing invalid actor ages reduced that dataset by 9.77%.\n"
     ]
    }
   ],
   "source": [
    "# Keep only valid ages (between 0 and 100 years)\n",
    "character_data_valid_ages = character_data_valid_heights.query(\"actor_age_at_release > 0 and actor_age_at_release < 100\")\n",
    "reduction = (len(character_data_valid_heights) - len(character_data_valid_ages)) / len(character_data_valid_heights)\n",
    "\n",
    "print(f\"Removing invalid actor ages reduced that dataset by {reduction:.2%}.\")"
   ]
  },
  {
   "cell_type": "code",
   "execution_count": 139,
   "id": "d3a80124",
   "metadata": {},
   "outputs": [],
   "source": [
    "# TODO: more cleaning on other attributes"
   ]
  },
  {
   "cell_type": "code",
   "execution_count": 140,
   "id": "8d87abf8",
   "metadata": {},
   "outputs": [],
   "source": [
    "character_data_valid = character_data_valid_ages"
   ]
  },
  {
   "cell_type": "markdown",
   "id": "d5ab0a23",
   "metadata": {},
   "source": [
    "## Deeper analysis\n",
    "Now that our data is more complete, we can do a more in deep analysis."
   ]
  },
  {
   "cell_type": "markdown",
   "id": "e951bc2b",
   "metadata": {},
   "source": [
    "### Character dataset \n",
    "\n",
    "Let's first analyse our character dataset. We will start with a summary of the statistics of the numerical features."
   ]
  },
  {
   "cell_type": "code",
   "execution_count": 141,
   "id": "63edf36a",
   "metadata": {},
   "outputs": [
    {
     "data": {
      "text/html": [
       "<div>\n",
       "<style scoped>\n",
       "    .dataframe tbody tr th:only-of-type {\n",
       "        vertical-align: middle;\n",
       "    }\n",
       "\n",
       "    .dataframe tbody tr th {\n",
       "        vertical-align: top;\n",
       "    }\n",
       "\n",
       "    .dataframe thead th {\n",
       "        text-align: right;\n",
       "    }\n",
       "</style>\n",
       "<table border=\"1\" class=\"dataframe\">\n",
       "  <thead>\n",
       "    <tr style=\"text-align: right;\">\n",
       "      <th></th>\n",
       "      <th>wikipedia_movie_id</th>\n",
       "      <th>actor_height</th>\n",
       "      <th>actor_age_at_release</th>\n",
       "    </tr>\n",
       "  </thead>\n",
       "  <tbody>\n",
       "    <tr>\n",
       "      <th>count</th>\n",
       "      <td>1.389690e+05</td>\n",
       "      <td>138969.000000</td>\n",
       "      <td>138969.000000</td>\n",
       "    </tr>\n",
       "    <tr>\n",
       "      <th>mean</th>\n",
       "      <td>1.170250e+07</td>\n",
       "      <td>1.751719</td>\n",
       "      <td>37.367125</td>\n",
       "    </tr>\n",
       "    <tr>\n",
       "      <th>std</th>\n",
       "      <td>1.066193e+07</td>\n",
       "      <td>0.100504</td>\n",
       "      <td>13.749361</td>\n",
       "    </tr>\n",
       "    <tr>\n",
       "      <th>min</th>\n",
       "      <td>3.217000e+03</td>\n",
       "      <td>1.510000</td>\n",
       "      <td>1.000000</td>\n",
       "    </tr>\n",
       "    <tr>\n",
       "      <th>25%</th>\n",
       "      <td>2.367161e+06</td>\n",
       "      <td>1.680000</td>\n",
       "      <td>27.000000</td>\n",
       "    </tr>\n",
       "    <tr>\n",
       "      <th>50%</th>\n",
       "      <td>7.903848e+06</td>\n",
       "      <td>1.750000</td>\n",
       "      <td>35.000000</td>\n",
       "    </tr>\n",
       "    <tr>\n",
       "      <th>75%</th>\n",
       "      <td>2.058117e+07</td>\n",
       "      <td>1.830000</td>\n",
       "      <td>46.000000</td>\n",
       "    </tr>\n",
       "    <tr>\n",
       "      <th>max</th>\n",
       "      <td>3.750192e+07</td>\n",
       "      <td>2.356000</td>\n",
       "      <td>96.000000</td>\n",
       "    </tr>\n",
       "  </tbody>\n",
       "</table>\n",
       "</div>"
      ],
      "text/plain": [
       "       wikipedia_movie_id   actor_height  actor_age_at_release\n",
       "count        1.389690e+05  138969.000000         138969.000000\n",
       "mean         1.170250e+07       1.751719             37.367125\n",
       "std          1.066193e+07       0.100504             13.749361\n",
       "min          3.217000e+03       1.510000              1.000000\n",
       "25%          2.367161e+06       1.680000             27.000000\n",
       "50%          7.903848e+06       1.750000             35.000000\n",
       "75%          2.058117e+07       1.830000             46.000000\n",
       "max          3.750192e+07       2.356000             96.000000"
      ]
     },
     "execution_count": 141,
     "metadata": {},
     "output_type": "execute_result"
    }
   ],
   "source": [
    "character_data_valid.describe()"
   ]
  },
  {
   "cell_type": "markdown",
   "id": "74caf699",
   "metadata": {},
   "source": [
    "Let's print their distributions:"
   ]
  },
  {
   "cell_type": "code",
   "execution_count": 142,
   "id": "fe5c4c43",
   "metadata": {},
   "outputs": [
    {
     "data": {
      "image/png": "[encoded data removed]",
      "text/plain": [
       "<Figure size 1500x600 with 2 Axes>"
      ]
     },
     "metadata": {},
     "output_type": "display_data"
    }
   ],
   "source": [
    "fig, axes = plt.subplots(1, 2, figsize=(15, 6))\n",
    "\n",
    "# Histogram for the runtime\n",
    "sns.histplot(data=character_data_valid, x=\"actor_height\", bins=50, ax=axes[0], kde=False)\n",
    "axes[0].set_title(\"Height of the actor\")\n",
    "axes[0].set_xlabel(\"Height (m)\")\n",
    "\n",
    "# Histogram for the box office results\n",
    "sns.histplot(data=character_data_valid, x=\"actor_age_at_release\", bins=50, ax=axes[1], kde=True)\n",
    "axes[1].set_title(\"Age of the actor at the release of the movie\")\n",
    "axes[1].set_xlabel(\"Age (years)\")\n",
    "\n",
    "plt.tight_layout()\n",
    "plt.show()\n"
   ]
  },
  {
   "cell_type": "markdown",
   "id": "36e5558c",
   "metadata": {},
   "source": [
    "Let's now print some box plots (also with log transformation)."
   ]
  },
  {
   "cell_type": "code",
   "execution_count": 143,
   "id": "cbeaf59b",
   "metadata": {},
   "outputs": [
    {
     "data": {
      "image/png": "[encoded data removed]",
      "text/plain": [
       "<Figure size 1500x600 with 2 Axes>"
      ]
     },
     "metadata": {},
     "output_type": "display_data"
    }
   ],
   "source": [
    "fig, axes = plt.subplots(1, 2, figsize=(15, 6))\n",
    "\n",
    "sns.boxplot(data=character_data_valid[\"actor_height\"], ax=axes[0])\n",
    "axes[0].set_title(\"Boxplot for actor_height\")\n",
    "\n",
    "sns.boxplot(data=character_data_valid[\"actor_age_at_release\"], ax=axes[1])\n",
    "axes[1].set_title(\"Boxplot for actor_age_at_release\")\n",
    "\n",
    "plt.tight_layout()\n",
    "plt.show()"
   ]
  },
  {
   "cell_type": "markdown",
   "id": "6d70b282",
   "metadata": {},
   "source": [
    "TODO Continue analysis, categorical data..."
   ]
  },
  {
   "cell_type": "markdown",
   "id": "a8f7792b",
   "metadata": {},
   "source": [
    "### Movies dataset \n",
    "\n",
    "Let's now analyse our movies dataset. We will start with a summary of the statistics of the numerical features."
   ]
  },
  {
   "cell_type": "code",
   "execution_count": 145,
   "id": "366f207a",
   "metadata": {},
   "outputs": [
    {
     "data": {
      "text/html": [
       "<div>\n",
       "<style scoped>\n",
       "    .dataframe tbody tr th:only-of-type {\n",
       "        vertical-align: middle;\n",
       "    }\n",
       "\n",
       "    .dataframe tbody tr th {\n",
       "        vertical-align: top;\n",
       "    }\n",
       "\n",
       "    .dataframe thead th {\n",
       "        text-align: right;\n",
       "    }\n",
       "</style>\n",
       "<table border=\"1\" class=\"dataframe\">\n",
       "  <thead>\n",
       "    <tr style=\"text-align: right;\">\n",
       "      <th></th>\n",
       "      <th>wikipedia_movie_id</th>\n",
       "      <th>box_office_revenue</th>\n",
       "      <th>runtime</th>\n",
       "      <th>averageRating</th>\n",
       "      <th>numVotes</th>\n",
       "    </tr>\n",
       "  </thead>\n",
       "  <tbody>\n",
       "    <tr>\n",
       "      <th>count</th>\n",
       "      <td>3.255400e+04</td>\n",
       "      <td>3.255400e+04</td>\n",
       "      <td>32463.000000</td>\n",
       "      <td>32554.000000</td>\n",
       "      <td>3.255400e+04</td>\n",
       "    </tr>\n",
       "    <tr>\n",
       "      <th>mean</th>\n",
       "      <td>6.774772e+06</td>\n",
       "      <td>2.202944e+08</td>\n",
       "      <td>103.612852</td>\n",
       "      <td>6.906101</td>\n",
       "      <td>2.617037e+05</td>\n",
       "    </tr>\n",
       "    <tr>\n",
       "      <th>std</th>\n",
       "      <td>9.203404e+06</td>\n",
       "      <td>5.587633e+08</td>\n",
       "      <td>24.615301</td>\n",
       "      <td>0.863986</td>\n",
       "      <td>3.378482e+05</td>\n",
       "    </tr>\n",
       "    <tr>\n",
       "      <th>min</th>\n",
       "      <td>3.217000e+03</td>\n",
       "      <td>1.207400e+02</td>\n",
       "      <td>1.000000</td>\n",
       "      <td>1.900000</td>\n",
       "      <td>9.000000e+00</td>\n",
       "    </tr>\n",
       "    <tr>\n",
       "      <th>25%</th>\n",
       "      <td>7.489045e+05</td>\n",
       "      <td>2.197129e+07</td>\n",
       "      <td>85.000000</td>\n",
       "      <td>6.500000</td>\n",
       "      <td>5.111500e+04</td>\n",
       "    </tr>\n",
       "    <tr>\n",
       "      <th>50%</th>\n",
       "      <td>2.330988e+06</td>\n",
       "      <td>1.325347e+08</td>\n",
       "      <td>98.000000</td>\n",
       "      <td>6.800000</td>\n",
       "      <td>1.416770e+05</td>\n",
       "    </tr>\n",
       "    <tr>\n",
       "      <th>75%</th>\n",
       "      <td>1.149616e+07</td>\n",
       "      <td>1.903564e+08</td>\n",
       "      <td>113.000000</td>\n",
       "      <td>7.500000</td>\n",
       "      <td>3.684030e+05</td>\n",
       "    </tr>\n",
       "    <tr>\n",
       "      <th>max</th>\n",
       "      <td>3.708265e+07</td>\n",
       "      <td>3.168000e+10</td>\n",
       "      <td>401.000000</td>\n",
       "      <td>9.300000</td>\n",
       "      <td>2.959782e+06</td>\n",
       "    </tr>\n",
       "  </tbody>\n",
       "</table>\n",
       "</div>"
      ],
      "text/plain": [
       "       wikipedia_movie_id  box_office_revenue       runtime  averageRating  \\\n",
       "count        3.255400e+04        3.255400e+04  32463.000000   32554.000000   \n",
       "mean         6.774772e+06        2.202944e+08    103.612852       6.906101   \n",
       "std          9.203404e+06        5.587633e+08     24.615301       0.863986   \n",
       "min          3.217000e+03        1.207400e+02      1.000000       1.900000   \n",
       "25%          7.489045e+05        2.197129e+07     85.000000       6.500000   \n",
       "50%          2.330988e+06        1.325347e+08     98.000000       6.800000   \n",
       "75%          1.149616e+07        1.903564e+08    113.000000       7.500000   \n",
       "max          3.708265e+07        3.168000e+10    401.000000       9.300000   \n",
       "\n",
       "           numVotes  \n",
       "count  3.255400e+04  \n",
       "mean   2.617037e+05  \n",
       "std    3.378482e+05  \n",
       "min    9.000000e+00  \n",
       "25%    5.111500e+04  \n",
       "50%    1.416770e+05  \n",
       "75%    3.684030e+05  \n",
       "max    2.959782e+06  "
      ]
     },
     "execution_count": 145,
     "metadata": {},
     "output_type": "execute_result"
    }
   ],
   "source": [
    "movie_data_completed = merged_movie_data.copy()\n",
    "movie_data_completed.describe()"
   ]
  },
  {
   "cell_type": "markdown",
   "id": "7041fe56",
   "metadata": {},
   "source": [
    "TODO: Comment this, also note the max of runtime very big"
   ]
  },
  {
   "cell_type": "markdown",
   "id": "43d9a852",
   "metadata": {},
   "source": [
    "Let's print their distributions (except for the wikipedia id):"
   ]
  },
  {
   "cell_type": "code",
   "execution_count": 146,
   "id": "f1bcf2c1",
   "metadata": {},
   "outputs": [
    {
     "data": {
      "image/png": "[encoded data removed]",
      "text/plain": [
       "<Figure size 1500x600 with 2 Axes>"
      ]
     },
     "metadata": {},
     "output_type": "display_data"
    }
   ],
   "source": [
    "fig, axes = plt.subplots(1, 2, figsize=(15, 6))\n",
    "\n",
    "# Histogram for the runtime\n",
    "movie_data_completed[\"runtime\"].hist(bins=100, ax=axes[0])\n",
    "axes[0].set_title(\"Histogram for runtime\")\n",
    "axes[0].set_xlabel(\"Runtime (min)\")\n",
    "\n",
    "# Histogram for the box office results\n",
    "movie_data_completed[\"box_office_revenue\"].hist(bins=100, ax=axes[1])\n",
    "axes[1].set_title(\"Histogram for box_office_revenue\")\n",
    "axes[1].set_xlabel(\"Box office revenue (dollars)\")\n",
    "\n",
    "plt.tight_layout()\n",
    "plt.show()\n"
   ]
  },
  {
   "cell_type": "markdown",
   "id": "061978c7",
   "metadata": {},
   "source": [
    "Not really ideal because of the outliers and the spread of the data, let's use a log transformation."
   ]
  },
  {
   "cell_type": "code",
   "execution_count": 147,
   "id": "bf1a9df1",
   "metadata": {},
   "outputs": [
    {
     "data": {
      "image/png": "[encoded data removed]",
      "text/plain": [
       "<Figure size 1500x600 with 2 Axes>"
      ]
     },
     "metadata": {},
     "output_type": "display_data"
    }
   ],
   "source": [
    "fig, axes = plt.subplots(1, 2, figsize=(15, 6))\n",
    "\n",
    "# Histogram for the runtime\n",
    "np.log1p(movie_data_completed[\"runtime\"]).hist(bins=30, ax=axes[0])\n",
    "axes[0].set_title(\"Log-Transformed Histogram for Runtime\")\n",
    "\n",
    "# Histogram for the box office results (log-transformed)\n",
    "np.log1p(movie_data_completed[\"box_office_revenue\"]).hist(bins=30, ax=axes[1])\n",
    "axes[1].set_title(\"Log-Transformed Histogram for Box Office Revenue\")\n",
    "\n",
    "plt.tight_layout()\n",
    "plt.show()"
   ]
  },
  {
   "cell_type": "markdown",
   "id": "9bf2f59c",
   "metadata": {},
   "source": [
    "Let's now print some box plots (also with log transformation)."
   ]
  },
  {
   "cell_type": "code",
   "execution_count": 148,
   "id": "0d35ed83",
   "metadata": {},
   "outputs": [
    {
     "data": {
      "image/png": "[encoded data removed]",
      "text/plain": [
       "<Figure size 1500x600 with 2 Axes>"
      ]
     },
     "metadata": {},
     "output_type": "display_data"
    }
   ],
   "source": [
    "fig, axes = plt.subplots(1, 2, figsize=(15, 6))\n",
    "\n",
    "# Boxplot for the log-transformed box_office_revenue\n",
    "sns.boxplot(data=np.log1p(movie_data_completed[\"box_office_revenue\"]), ax=axes[0])\n",
    "axes[0].set_title(\"Log-Transformed Boxplot for box_office_revenue\")\n",
    "\n",
    "# Boxplot for the log-transformed runtime\n",
    "sns.boxplot(data=np.log1p(movie_data_completed[\"runtime\"]), ax=axes[1])\n",
    "axes[1].set_title(\"Log-Transformed Boxplot for runtime\")\n",
    "\n",
    "plt.tight_layout()\n",
    "plt.show()\n"
   ]
  },
  {
   "cell_type": "markdown",
   "id": "326b2558",
   "metadata": {},
   "source": [
    "TODO: MAYBE TRY TO DO A BETTER plot for box office"
   ]
  },
  {
   "cell_type": "markdown",
   "id": "7e2c2eb7",
   "metadata": {},
   "source": [
    "We can now have a look to the categorical features:"
   ]
  },
  {
   "cell_type": "code",
   "execution_count": null,
   "id": "a885e52b",
   "metadata": {},
   "outputs": [],
   "source": [
    "#TODO: SOME COUNT PLOTS FOR CATEGORICAL"
   ]
  }
 ],
 "metadata": {
  "kernelspec": {
   "display_name": "hw1",
   "language": "python",
   "name": "python3"
  },
  "language_info": {
   "codemirror_mode": {
    "name": "ipython",
    "version": 3
   },
   "file_extension": ".py",
   "mimetype": "text/x-python",
   "name": "python",
   "nbconvert_exporter": "python",
   "pygments_lexer": "ipython3",
   "version": "3.12.7"
  }
 },
 "nbformat": 4,
 "nbformat_minor": 5
}
